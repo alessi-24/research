{
 "cells": [
  {
   "cell_type": "code",
   "execution_count": 1,
   "metadata": {},
   "outputs": [
    {
     "data": {
      "text/plain": [
       "Plots.GRBackend()"
      ]
     },
     "metadata": {},
     "output_type": "display_data"
    }
   ],
   "source": [
    "using Distributions\n",
    "using Random\n",
    "using LinearAlgebra\n",
    "using Plots\n",
    "using StatsBase\n",
    "using LaTeXStrings\n",
    "using ProgressBars\n",
    "using ProgressMeter\n",
    "using DataFrames\n",
    "using CSV\n",
    "using Base.Threads\n",
    "using StatsPlots\n",
    "using Latexify\n",
    "using BenchmarkTools\n",
    "gr()"
   ]
  },
  {
   "cell_type": "code",
   "execution_count": 15,
   "metadata": {},
   "outputs": [
    {
     "data": {
      "text/plain": [
       "\"/Users/nishimurarei/home/lab2/cristal/parameter_estimation/result/try_2/\""
      ]
     },
     "metadata": {},
     "output_type": "display_data"
    }
   ],
   "source": [
    "path = \"/Users/nishimurarei/home/lab2/cristal/parameter_estimation/result/try_2/\""
   ]
  },
  {
   "cell_type": "code",
   "execution_count": 2,
   "metadata": {},
   "outputs": [
    {
     "name": "stdout",
     "output_type": "stream",
     "text": [
      "Julia Version 1.6.2\n",
      "Commit 1b93d53fc4 (2021-07-14 15:36 UTC)\n",
      "Platform Info:\n",
      "  OS: macOS (x86_64-apple-darwin18.7.0)\n",
      "  CPU: Intel(R) Core(TM) i9-9980HK CPU @ 2.40GHz\n",
      "  WORD_SIZE: 64\n",
      "  LIBM: libopenlibm\n",
      "  LLVM: libLLVM-11.0.1 (ORCJIT, skylake)\n",
      "Environment:\n",
      "  JULIA_NUM_THREADS = 16\n"
     ]
    }
   ],
   "source": [
    "versioninfo()"
   ]
  },
  {
   "cell_type": "markdown",
   "metadata": {},
   "source": [
    "# モデル"
   ]
  },
  {
   "cell_type": "code",
   "execution_count": 3,
   "metadata": {},
   "outputs": [
    {
     "data": {
      "text/plain": [
       "para_true (generic function with 1 method)"
      ]
     },
     "metadata": {},
     "output_type": "display_data"
    }
   ],
   "source": [
    "function para_true()\n",
    "    B20_true = 0.38\n",
    "    B40_true = 0.16\n",
    "    B44_true = 0.44\n",
    "    return B20_true, B40_true, B44_true\n",
    "end"
   ]
  },
  {
   "cell_type": "code",
   "execution_count": 4,
   "metadata": {},
   "outputs": [
    {
     "data": {
      "text/plain": [
       "temp (generic function with 1 method)"
      ]
     },
     "metadata": {},
     "output_type": "display_data"
    }
   ],
   "source": [
    "function temp()\n",
    "    Temp_table_chi= collect(0.2:0.2:70) # length 350\n",
    "    return Temp_table_chi\n",
    "end"
   ]
  },
  {
   "cell_type": "code",
   "execution_count": 5,
   "metadata": {},
   "outputs": [
    {
     "data": {
      "text/plain": [
       "data_num_chi (generic function with 1 method)"
      ]
     },
     "metadata": {},
     "output_type": "display_data"
    }
   ],
   "source": [
    "function data_num_chi()\n",
    "    n_chi = 350\n",
    "    return n_chi\n",
    "end"
   ]
  },
  {
   "cell_type": "code",
   "execution_count": 6,
   "metadata": {},
   "outputs": [
    {
     "data": {
      "text/plain": [
       "350"
      ]
     },
     "metadata": {},
     "output_type": "display_data"
    }
   ],
   "source": [
    "const n_chi = data_num_chi()"
   ]
  },
  {
   "cell_type": "code",
   "execution_count": 54,
   "metadata": {},
   "outputs": [
    {
     "data": {
      "text/plain": [
       "ini (generic function with 1 method)"
      ]
     },
     "metadata": {},
     "output_type": "display_data"
    }
   ],
   "source": [
    "function ini()\n",
    "    # Hund's Rule Ground J-Multiplet Ce3+ n4f=1\n",
    "    n4f = 1.0\n",
    "    L = 3.0\n",
    "    S = 0.5\n",
    "    J = L - S\n",
    "    g = 1.0 + (J * (J + 1.0) + S * (S + 1.0) - L * (L + 1.0)) / (2.0 * J * (J + 1.0))\n",
    "    Jz = [2.5, 1.5, 0.5, -0.5, -1.5, -2.5]\n",
    "    return J, g, Jz\n",
    "end"
   ]
  },
  {
   "cell_type": "code",
   "execution_count": 55,
   "metadata": {},
   "outputs": [
    {
     "data": {
      "text/plain": [
       "Onn_make (generic function with 1 method)"
      ]
     },
     "metadata": {},
     "output_type": "display_data"
    }
   ],
   "source": [
    "function Onn_make(B20,B40,B44)\n",
    "    # O20\n",
    "    O20_vec_x = [10.0, -2.0, -8.0, -8.0, -2.0, 10.0]\n",
    "    O20_vec = O20_vec_x * B20\n",
    "    O20 = diagm(0 => O20_vec)\n",
    "    \n",
    "    # O40\n",
    "    O40_vec_x = [60.0, -180.0, 120.0, 120.0, -180.0, 60.0]\n",
    "    O40_vec = O40_vec_x * B40\n",
    "    O40 = diagm(0 => O40_vec)\n",
    "\n",
    "    Onn = O20 + O40\n",
    "    \n",
    "    # O44\n",
    "    O44_value = sqrt(120.0 * 24.0) * B44 / 2.0\n",
    "    Onn[5,1] = O44_value\n",
    "    Onn[6,2] = O44_value\n",
    "    Onn[1,5] = O44_value\n",
    "    Onn[2,6] = O44_value\n",
    "    \n",
    "    return Onn\n",
    "end"
   ]
  },
  {
   "cell_type": "code",
   "execution_count": 56,
   "metadata": {},
   "outputs": [
    {
     "data": {
      "text/plain": [
       "chi (generic function with 1 method)"
      ]
     },
     "metadata": {},
     "output_type": "display_data"
    }
   ],
   "source": [
    "# 磁化率\n",
    "function chi(Onn)\n",
    "    _, g, Jz = ini()\n",
    "    magfield = 0.01\n",
    "    #magdir = [0,0,1]\n",
    "    #nor_magdir = [0,0,1]\n",
    "    \n",
    "    # 対角要素\n",
    "    Hmag_vec_0 = Jz * magfield * g * 0.67171\n",
    "    Hmag = diagm(0 => Hmag_vec_0)\n",
    "    \n",
    "    # 非対角要素はmagdir[x,y]が0なので0\n",
    "    \n",
    "    # 結晶場＋磁場ハミルトニアンの行列要素\n",
    "    H = Onn + Hmag\n",
    "    \n",
    "    eigval, eigvec = eigen(H)\n",
    "\n",
    "    Temp_table_chi = temp()\n",
    "    chi_inv_Temp = zeros(n_chi)\n",
    "    \n",
    "    @inbounds for (i, Temp) in enumerate(Temp_table_chi)\n",
    "        eigval_2 = - eigval / Temp\n",
    "        eigval_2_max = maximum(eigval_2)\n",
    "        eigval_ratio = eigval_2 .- eigval_2_max\n",
    "        exp_eigval = exp.(eigval_ratio)\n",
    "        sumexp = sum(exp_eigval)\n",
    "\n",
    "        mag_z = zeros(6)\n",
    "        @simd for j in 1:6\n",
    "            eigvec_check = eigvec[:,j]\n",
    "            mag_z[j] = eigvec_check' * (eigvec_check .* Jz) * exp_eigval[j] / sumexp\n",
    "        end\n",
    "\n",
    "        Jmag_z = sum(mag_z) * g * (-1)\n",
    "        Jmag = Jmag_z\n",
    "\n",
    "        chi = Jmag / magfield * 0.5585\n",
    "        chi_inv = 1.0 / chi\n",
    "        chi_inv_Temp[i] = chi_inv\n",
    "    end\n",
    "    return chi_inv_Temp\n",
    "end"
   ]
  },
  {
   "cell_type": "code",
   "execution_count": 57,
   "metadata": {},
   "outputs": [
    {
     "data": {
      "text/plain": [
       "set_chi_noise (generic function with 1 method)"
      ]
     },
     "metadata": {},
     "output_type": "display_data"
    }
   ],
   "source": [
    "#ノイズ\n",
    "function set_chi_noise()\n",
    "    noise_chi = 1 / 10^2\n",
    "    b_chi = 10^4\n",
    "    return noise_chi, b_chi\n",
    "end"
   ]
  },
  {
   "cell_type": "code",
   "execution_count": 58,
   "metadata": {},
   "outputs": [
    {
     "data": {
      "text/plain": [
       "(0.01, 10000)"
      ]
     },
     "metadata": {},
     "output_type": "display_data"
    }
   ],
   "source": [
    "const noise_chi, b_chi = set_chi_noise()"
   ]
  },
  {
   "cell_type": "code",
   "execution_count": 59,
   "metadata": {},
   "outputs": [
    {
     "data": {
      "text/plain": [
       "making_data (generic function with 1 method)"
      ]
     },
     "metadata": {},
     "output_type": "display_data"
    }
   ],
   "source": [
    "function making_data()\n",
    "    #パラメータ真値\n",
    "    B20_true, B40_true, B44_true = para_true()\n",
    "\n",
    "    d_chi = Normal(0,noise_chi)\n",
    "    chi_inv_Temp = chi(Onn_make(B20_true,B40_true,B44_true))\n",
    "    chi_inv_Temp_noise = chi_inv_Temp + rand(d_chi,n_chi)\n",
    "    \n",
    "    return chi_inv_Temp_noise\n",
    "end"
   ]
  },
  {
   "cell_type": "code",
   "execution_count": 60,
   "metadata": {},
   "outputs": [
    {
     "name": "stderr",
     "output_type": "stream",
     "text": [
      "WARNING: redefinition of constant chi_inv_Temp_noise. This may fail, cause incorrect answers, or produce other errors.\n"
     ]
    },
    {
     "data": {
      "text/plain": [
       "350-element Vector{Float64}:\n",
       "  0.4686667857602634\n",
       "  0.9147984231458524\n",
       "  1.378974642060562\n",
       "  1.806044682236009\n",
       "  2.2790771551528306\n",
       "  2.6904788263249317\n",
       "  3.1279740872593735\n",
       "  3.5433341676632093\n",
       "  3.991355817974411\n",
       "  4.40207978257703\n",
       "  ⋮\n",
       " 89.37260466944713\n",
       " 89.60764684134287\n",
       " 89.83329097967946\n",
       " 90.10718908883604\n",
       " 90.3406333092926\n",
       " 90.56805072699962\n",
       " 90.81225171378485\n",
       " 91.08222143655222\n",
       " 91.31361161663655"
      ]
     },
     "metadata": {},
     "output_type": "display_data"
    }
   ],
   "source": [
    "#ノイズを付加した磁化率データ\n",
    "const chi_inv_Temp_noise = making_data()"
   ]
  },
  {
   "cell_type": "code",
   "execution_count": 61,
   "metadata": {},
   "outputs": [
    {
     "data": {
      "image/png": "[encoded data removed]",
      "image/svg+xml": "<?xml version=\"1.0\" encoding=\"utf-8\"?>\n<svg xmlns=\"http://www.w3.org/2000/svg\" xmlns:xlink=\"http://www.w3.org/1999/xlink\" width=\"600\" height=\"400\" viewBox=\"0 0 2400 1600\">\n<defs>\n  <clipPath id=\"clip840\">\n    <rect x=\"0\" y=\"0\" width=\"2400\" height=\"1600\"/>\n  </clipPath>\n</defs>\n<path clip-path=\"url(#clip840)\" d=\"\nM0 1600 L2400 1600 L2400 0 L0 0  Z\n  \" fill=\"#ffffff\" fill-rule=\"evenodd\" fill-opacity=\"1\"/>\n<defs>\n  <clipPath id=\"clip841\">\n    <rect x=\"480\" y=\"0\" width=\"1681\" height=\"1600\"/>\n  </clipPath>\n</defs>\n<defs>\n  <clipPath id=\"clip842\">\n    <rect x=\"232\" y=\"47\" width=\"2121\" height=\"1360\"/>\n  </clipPath>\n</defs>\n<path clip-path=\"url(#clip840)\" d=\"\nM232.551 1405.9 L2352.76 1405.9 L2352.76 47.2441 L232.551 47.2441  Z\n  \" fill=\"#ffffff\" fill-rule=\"evenodd\" fill-opacity=\"1\"/>\n<polyline clip-path=\"url(#clip842)\" style=\"stroke:#000000; stroke-linecap:butt; stroke-linejoin:round; stroke-width:2; stroke-opacity:0.1; fill:none\" points=\"\n  286.826,1405.9 286.826,47.2441 \n  \"/>\n<polyline clip-path=\"url(#clip842)\" style=\"stroke:#000000; stroke-linecap:butt; stroke-linejoin:round; stroke-width:2; stroke-opacity:0.1; fill:none\" points=\"\n  859.947,1405.9 859.947,47.2441 \n  \"/>\n<polyline clip-path=\"url(#clip842)\" style=\"stroke:#000000; stroke-linecap:butt; stroke-linejoin:round; stroke-width:2; stroke-opacity:0.1; fill:none\" points=\"\n  1433.07,1405.9 1433.07,47.2441 \n  \"/>\n<polyline clip-path=\"url(#clip842)\" style=\"stroke:#000000; stroke-linecap:butt; stroke-linejoin:round; stroke-width:2; stroke-opacity:0.1; fill:none\" points=\"\n  2006.19,1405.9 2006.19,47.2441 \n  \"/>\n<polyline clip-path=\"url(#clip840)\" style=\"stroke:#000000; stroke-linecap:butt; stroke-linejoin:round; stroke-width:4; stroke-opacity:1; fill:none\" points=\"\n  232.551,1405.9 2352.76,1405.9 \n  \"/>\n<polyline clip-path=\"url(#clip840)\" style=\"stroke:#000000; stroke-linecap:butt; stroke-linejoin:round; stroke-width:4; stroke-opacity:1; fill:none\" points=\"\n  286.826,1405.9 286.826,1387 \n  \"/>\n<polyline clip-path=\"url(#clip840)\" style=\"stroke:#000000; stroke-linecap:butt; stroke-linejoin:round; stroke-width:4; stroke-opacity:1; fill:none\" points=\"\n  859.947,1405.9 859.947,1387 \n  \"/>\n<polyline clip-path=\"url(#clip840)\" style=\"stroke:#000000; stroke-linecap:butt; stroke-linejoin:round; stroke-width:4; stroke-opacity:1; fill:none\" points=\"\n  1433.07,1405.9 1433.07,1387 \n  \"/>\n<polyline clip-path=\"url(#clip840)\" style=\"stroke:#000000; stroke-linecap:butt; stroke-linejoin:round; stroke-width:4; stroke-opacity:1; fill:none\" points=\"\n  2006.19,1405.9 2006.19,1387 \n  \"/>\n<path clip-path=\"url(#clip840)\" d=\"M286.826 1442.68 Q281.409 1442.68 278.666 1448.03 Q275.958 1453.34 275.958 1464.03 Q275.958 1474.69 278.666 1480.04 Q281.409 1485.35 286.826 1485.35 Q292.277 1485.35 294.986 1480.04 Q297.729 1474.69 297.729 1464.03 Q297.729 1453.34 294.986 1448.03 Q292.277 1442.68 286.826 1442.68 M286.826 1437.12 Q295.541 1437.12 300.124 1444.03 Q304.743 1450.91 304.743 1464.03 Q304.743 1477.12 300.124 1484.03 Q295.541 1490.91 286.826 1490.91 Q278.111 1490.91 273.493 1484.03 Q268.909 1477.12 268.909 1464.03 Q268.909 1450.91 273.493 1444.03 Q278.111 1437.12 286.826 1437.12 Z\" fill=\"#000000\" fill-rule=\"evenodd\" fill-opacity=\"1\" /><path clip-path=\"url(#clip840)\" d=\"M828.107 1484 L852.586 1484 L852.586 1489.9 L819.67 1489.9 L819.67 1484 Q823.663 1479.87 830.538 1472.92 Q837.447 1465.94 839.218 1463.93 Q842.586 1460.14 843.906 1457.54 Q845.26 1454.9 845.26 1452.37 Q845.26 1448.23 842.343 1445.63 Q839.461 1443.03 834.808 1443.03 Q831.51 1443.03 827.829 1444.17 Q824.183 1445.32 820.017 1447.64 L820.017 1440.56 Q824.253 1438.86 827.933 1437.99 Q831.614 1437.12 834.67 1437.12 Q842.725 1437.12 847.517 1441.15 Q852.308 1445.18 852.308 1451.91 Q852.308 1455.11 851.093 1457.99 Q849.912 1460.84 846.753 1464.73 Q845.885 1465.73 841.232 1470.56 Q836.579 1475.35 828.107 1484 Z\" fill=\"#000000\" fill-rule=\"evenodd\" fill-opacity=\"1\" /><path clip-path=\"url(#clip840)\" d=\"M882.308 1442.68 Q876.892 1442.68 874.148 1448.03 Q871.44 1453.34 871.44 1464.03 Q871.44 1474.69 874.148 1480.04 Q876.892 1485.35 882.308 1485.35 Q887.759 1485.35 890.468 1480.04 Q893.211 1474.69 893.211 1464.03 Q893.211 1453.34 890.468 1448.03 Q887.759 1442.68 882.308 1442.68 M882.308 1437.12 Q891.023 1437.12 895.607 1444.03 Q900.225 1450.91 900.225 1464.03 Q900.225 1477.12 895.607 1484.03 Q891.023 1490.91 882.308 1490.91 Q873.593 1490.91 868.975 1484.03 Q864.392 1477.12 864.392 1464.03 Q864.392 1450.91 868.975 1444.03 Q873.593 1437.12 882.308 1437.12 Z\" fill=\"#000000\" fill-rule=\"evenodd\" fill-opacity=\"1\" /><path clip-path=\"url(#clip840)\" d=\"M1415.33 1444.17 L1397.62 1471.84 L1415.33 1471.84 L1415.33 1444.17 M1413.49 1438.06 L1422.3 1438.06 L1422.3 1471.84 L1429.7 1471.84 L1429.7 1477.68 L1422.3 1477.68 L1422.3 1489.9 L1415.33 1489.9 L1415.33 1477.68 L1391.92 1477.68 L1391.92 1470.91 L1413.49 1438.06 Z\" fill=\"#000000\" fill-rule=\"evenodd\" fill-opacity=\"1\" /><path clip-path=\"url(#clip840)\" d=\"M1456.3 1442.68 Q1450.88 1442.68 1448.14 1448.03 Q1445.43 1453.34 1445.43 1464.03 Q1445.43 1474.69 1448.14 1480.04 Q1450.88 1485.35 1456.3 1485.35 Q1461.75 1485.35 1464.46 1480.04 Q1467.2 1474.69 1467.2 1464.03 Q1467.2 1453.34 1464.46 1448.03 Q1461.75 1442.68 1456.3 1442.68 M1456.3 1437.12 Q1465.01 1437.12 1469.6 1444.03 Q1474.21 1450.91 1474.21 1464.03 Q1474.21 1477.12 1469.6 1484.03 Q1465.01 1490.91 1456.3 1490.91 Q1447.58 1490.91 1442.96 1484.03 Q1438.38 1477.12 1438.38 1464.03 Q1438.38 1450.91 1442.96 1444.03 Q1447.58 1437.12 1456.3 1437.12 Z\" fill=\"#000000\" fill-rule=\"evenodd\" fill-opacity=\"1\" /><path clip-path=\"url(#clip840)\" d=\"M1984.3 1461.18 Q1979.58 1461.18 1976.8 1464.41 Q1974.05 1467.64 1974.05 1473.27 Q1974.05 1478.86 1976.8 1482.12 Q1979.58 1485.35 1984.3 1485.35 Q1989.02 1485.35 1991.76 1482.12 Q1994.54 1478.86 1994.54 1473.27 Q1994.54 1467.64 1991.76 1464.41 Q1989.02 1461.18 1984.3 1461.18 M1998.22 1439.21 L1998.22 1445.59 Q1995.58 1444.34 1992.87 1443.68 Q1990.2 1443.03 1987.56 1443.03 Q1980.62 1443.03 1976.94 1447.71 Q1973.29 1452.4 1972.77 1461.88 Q1974.82 1458.86 1977.91 1457.26 Q1981 1455.63 1984.71 1455.63 Q1992.53 1455.63 1997.04 1460.39 Q2001.59 1465.11 2001.59 1473.27 Q2001.59 1481.25 1996.87 1486.08 Q1992.14 1490.91 1984.3 1490.91 Q1975.3 1490.91 1970.55 1484.03 Q1965.79 1477.12 1965.79 1464.03 Q1965.79 1451.74 1971.62 1444.45 Q1977.46 1437.12 1987.28 1437.12 Q1989.92 1437.12 1992.6 1437.64 Q1995.3 1438.16 1998.22 1439.21 Z\" fill=\"#000000\" fill-rule=\"evenodd\" fill-opacity=\"1\" /><path clip-path=\"url(#clip840)\" d=\"M2028.67 1442.68 Q2023.26 1442.68 2020.51 1448.03 Q2017.8 1453.34 2017.8 1464.03 Q2017.8 1474.69 2020.51 1480.04 Q2023.26 1485.35 2028.67 1485.35 Q2034.12 1485.35 2036.83 1480.04 Q2039.57 1474.69 2039.57 1464.03 Q2039.57 1453.34 2036.83 1448.03 Q2034.12 1442.68 2028.67 1442.68 M2028.67 1437.12 Q2037.39 1437.12 2041.97 1444.03 Q2046.59 1450.91 2046.59 1464.03 Q2046.59 1477.12 2041.97 1484.03 Q2037.39 1490.91 2028.67 1490.91 Q2019.96 1490.91 2015.34 1484.03 Q2010.76 1477.12 2010.76 1464.03 Q2010.76 1450.91 2015.34 1444.03 Q2019.96 1437.12 2028.67 1437.12 Z\" fill=\"#000000\" fill-rule=\"evenodd\" fill-opacity=\"1\" /><path clip-path=\"url(#clip840)\" d=\"M1257.08 1537.21 Q1257.08 1537.82 1256.95 1538.34 L1255.15 1549.8 Q1255.05 1550.67 1254.86 1551 Q1254.69 1551.32 1254.18 1551.32 Q1253.37 1551.32 1253.37 1550.48 Q1253.37 1550 1253.57 1549.22 Q1254.11 1545.58 1254.11 1543.94 Q1254.11 1542.85 1253.89 1542.04 Q1253.7 1541.2 1253.37 1540.62 Q1253.08 1540.05 1252.41 1539.66 Q1251.73 1539.27 1251.09 1539.05 Q1250.44 1538.82 1249.28 1538.72 Q1248.12 1538.6 1247.13 1538.56 Q1246.13 1538.53 1244.49 1538.53 Q1240.91 1538.53 1240.33 1538.66 Q1239.72 1538.82 1239.4 1539.3 Q1239.11 1539.76 1238.78 1541.11 L1230.02 1576.12 L1229.77 1577.5 Q1229.77 1578.27 1230.25 1578.53 Q1230.73 1578.79 1232.21 1578.95 Q1234.34 1579.11 1236.43 1579.11 Q1236.5 1579.11 1236.63 1579.11 Q1237.34 1579.11 1237.63 1579.14 Q1237.92 1579.14 1238.21 1579.21 Q1238.5 1579.27 1238.56 1579.43 Q1238.66 1579.56 1238.66 1579.82 Q1238.66 1580.43 1238.4 1580.75 Q1238.14 1581.04 1237.88 1581.11 Q1237.66 1581.14 1237.21 1581.14 Q1236.31 1581.14 1234.37 1581.08 Q1232.44 1581.01 1231.47 1581.01 L1226 1580.95 L1220.4 1581.01 Q1219.53 1581.01 1217.69 1581.08 Q1215.85 1581.14 1214.98 1581.14 Q1213.86 1581.14 1213.86 1580.33 Q1213.86 1579.43 1214.28 1579.27 Q1214.73 1579.11 1216.63 1579.11 Q1219.3 1579.11 1220.75 1578.98 Q1222.2 1578.85 1222.97 1578.4 Q1223.78 1577.95 1224 1577.5 Q1224.23 1577.02 1224.49 1575.92 L1233.34 1540.72 Q1233.6 1539.95 1233.6 1539.34 Q1233.6 1539.01 1233.5 1538.89 Q1233.44 1538.76 1233.02 1538.66 Q1232.6 1538.53 1231.73 1538.53 L1229.16 1538.53 Q1226.51 1538.53 1224.87 1538.66 Q1223.26 1538.76 1221.72 1539.24 Q1220.2 1539.72 1219.3 1540.4 Q1218.43 1541.08 1217.46 1542.46 Q1216.5 1543.85 1215.79 1545.52 Q1215.11 1547.19 1214.15 1549.93 Q1213.83 1550.83 1213.63 1551.09 Q1213.47 1551.32 1213.02 1551.32 Q1212.7 1551.32 1212.44 1551.12 Q1212.22 1550.9 1212.22 1550.61 Q1212.54 1549.55 1212.6 1549.42 L1216.56 1537.79 Q1216.88 1536.86 1217.17 1536.7 Q1217.5 1536.5 1218.69 1536.5 L1255.27 1536.5 Q1255.85 1536.5 1256.05 1536.5 Q1256.24 1536.5 1256.56 1536.57 Q1256.88 1536.63 1256.98 1536.79 Q1257.08 1536.95 1257.08 1537.21 Z\" fill=\"#000000\" fill-rule=\"evenodd\" fill-opacity=\"1\" /><path clip-path=\"url(#clip840)\" d=\"M1264.09 1564.65 Q1264.09 1553.51 1268.25 1544.52 Q1270.02 1540.75 1272.5 1537.6 Q1274.98 1534.44 1276.62 1533.06 Q1278.26 1531.67 1278.72 1531.67 Q1279.36 1531.67 1279.39 1532.32 Q1279.39 1532.64 1278.52 1533.44 Q1267.89 1544.26 1267.93 1564.65 Q1267.93 1585.1 1278.26 1595.5 Q1279.39 1596.63 1279.39 1596.99 Q1279.39 1597.63 1278.72 1597.63 Q1278.26 1597.63 1276.69 1596.31 Q1275.11 1594.99 1272.66 1591.96 Q1270.21 1588.93 1268.44 1585.23 Q1264.09 1576.24 1264.09 1564.65 Z\" fill=\"#000000\" fill-rule=\"evenodd\" fill-opacity=\"1\" /><path clip-path=\"url(#clip840)\" d=\"M1341.6 1536.82 Q1341.6 1537.24 1341.5 1537.53 Q1341.4 1537.79 1341.18 1537.92 Q1340.95 1538.05 1340.82 1538.08 Q1340.69 1538.11 1340.4 1538.14 Q1339.02 1538.27 1338.05 1538.5 Q1337.12 1538.72 1334.8 1539.88 Q1332.51 1541.04 1329.65 1543.14 L1318.12 1552.06 L1316.19 1553.57 Q1316.19 1553.67 1316.25 1553.86 Q1316.31 1554.02 1316.38 1554.25 Q1316.48 1554.44 1316.51 1554.51 L1325.88 1576.12 Q1326.62 1577.85 1327.52 1578.47 Q1328.42 1579.08 1330.45 1579.11 Q1330.77 1579.11 1330.9 1579.14 Q1331.06 1579.14 1331.29 1579.21 Q1331.55 1579.24 1331.64 1579.4 Q1331.77 1579.56 1331.77 1579.82 Q1331.77 1581.14 1330.58 1581.14 Q1329.84 1581.14 1327.33 1581.04 Q1324.82 1580.95 1324.11 1580.95 Q1322.79 1580.95 1320.08 1581.04 Q1317.38 1581.14 1316.06 1581.14 Q1315.12 1581.14 1315.12 1580.4 Q1315.12 1579.79 1315.35 1579.5 Q1315.61 1579.18 1315.83 1579.14 Q1316.06 1579.11 1316.57 1579.11 Q1316.96 1579.11 1317.38 1579.08 Q1317.83 1579.01 1318.47 1578.85 Q1319.15 1578.66 1319.57 1578.21 Q1320.02 1577.73 1320.02 1577.05 Q1320.02 1576.5 1319.21 1574.73 L1311.58 1556.99 L1301.76 1564.65 L1299.12 1575.02 Q1299.05 1575.41 1298.89 1576.08 Q1298.73 1576.76 1298.6 1577.24 Q1298.5 1577.73 1298.5 1577.92 Q1298.5 1578.34 1298.76 1578.6 Q1299.05 1578.85 1299.76 1578.98 Q1300.47 1579.08 1301.02 1579.11 Q1301.6 1579.11 1302.79 1579.11 Q1304.27 1579.11 1304.53 1579.37 Q1304.66 1579.53 1304.66 1579.82 Q1304.66 1580.27 1304.53 1580.59 Q1304.4 1580.88 1304.14 1580.98 Q1303.92 1581.08 1303.75 1581.11 Q1303.59 1581.14 1303.34 1581.14 Q1302.66 1581.14 1301.21 1581.08 Q1299.79 1581.01 1299.05 1581.01 L1294.83 1580.95 L1286.46 1581.14 Q1285.46 1581.14 1285.46 1580.33 Q1285.46 1579.72 1285.72 1579.47 Q1285.98 1579.18 1286.27 1579.14 Q1286.56 1579.11 1287.3 1579.11 Q1288.91 1579.11 1289.87 1579.01 Q1290.84 1578.92 1291.45 1578.79 Q1292.1 1578.63 1292.42 1578.18 Q1292.77 1577.73 1292.93 1577.34 Q1293.09 1576.92 1293.32 1575.99 L1302.14 1540.56 Q1302.4 1539.5 1302.4 1539.34 Q1302.4 1538.79 1302.08 1538.6 Q1301.79 1538.37 1300.95 1538.27 Q1299.34 1538.14 1298.12 1538.14 Q1297.31 1538.14 1296.99 1538.11 Q1296.7 1538.08 1296.44 1537.92 Q1296.22 1537.73 1296.22 1537.34 Q1296.22 1536.08 1297.54 1536.08 L1306.04 1536.28 L1314.48 1536.08 Q1315.41 1536.08 1315.41 1536.82 Q1315.41 1537.76 1314.96 1537.95 Q1314.54 1538.14 1313.16 1538.14 Q1310.74 1538.14 1309.65 1538.47 Q1308.58 1538.76 1308.26 1539.27 Q1307.97 1539.76 1307.62 1541.17 L1302.34 1562.33 L1328.07 1542.56 Q1330.45 1540.56 1330.45 1539.53 Q1330.45 1538.85 1329.97 1538.56 Q1329.52 1538.24 1328.39 1538.14 Q1327.59 1538.02 1327.59 1537.4 Q1327.59 1536.79 1327.81 1536.5 Q1328.07 1536.18 1328.26 1536.15 Q1328.49 1536.08 1328.84 1536.08 Q1330.03 1536.08 1332.51 1536.18 Q1334.99 1536.28 1336.19 1536.28 Q1336.99 1536.28 1338.57 1536.18 Q1340.15 1536.08 1340.86 1536.08 Q1341.21 1536.08 1341.4 1536.34 Q1341.6 1536.57 1341.6 1536.82 Z\" fill=\"#000000\" fill-rule=\"evenodd\" fill-opacity=\"1\" /><path clip-path=\"url(#clip840)\" d=\"M1347.76 1596.99 Q1347.76 1596.66 1348.6 1595.86 Q1359.23 1585.04 1359.23 1564.65 Q1359.23 1544.2 1349.02 1533.86 Q1347.76 1532.67 1347.76 1532.32 Q1347.76 1531.67 1348.41 1531.67 Q1348.86 1531.67 1350.44 1532.99 Q1352.05 1534.31 1354.46 1537.34 Q1356.91 1540.37 1358.71 1544.07 Q1363.06 1553.06 1363.06 1564.65 Q1363.06 1575.79 1358.91 1584.78 Q1357.14 1588.55 1354.66 1591.7 Q1352.18 1594.86 1350.53 1596.24 Q1348.89 1597.63 1348.41 1597.63 Q1347.76 1597.63 1347.76 1596.99 Z\" fill=\"#000000\" fill-rule=\"evenodd\" fill-opacity=\"1\" /><polyline clip-path=\"url(#clip842)\" style=\"stroke:#000000; stroke-linecap:butt; stroke-linejoin:round; stroke-width:2; stroke-opacity:0.1; fill:none\" points=\"\n  232.551,1374.06 2352.76,1374.06 \n  \"/>\n<polyline clip-path=\"url(#clip842)\" style=\"stroke:#000000; stroke-linecap:butt; stroke-linejoin:round; stroke-width:2; stroke-opacity:0.1; fill:none\" points=\"\n  232.551,1091.88 2352.76,1091.88 \n  \"/>\n<polyline clip-path=\"url(#clip842)\" style=\"stroke:#000000; stroke-linecap:butt; stroke-linejoin:round; stroke-width:2; stroke-opacity:0.1; fill:none\" points=\"\n  232.551,809.691 2352.76,809.691 \n  \"/>\n<polyline clip-path=\"url(#clip842)\" style=\"stroke:#000000; stroke-linecap:butt; stroke-linejoin:round; stroke-width:2; stroke-opacity:0.1; fill:none\" points=\"\n  232.551,527.507 2352.76,527.507 \n  \"/>\n<polyline clip-path=\"url(#clip842)\" style=\"stroke:#000000; stroke-linecap:butt; stroke-linejoin:round; stroke-width:2; stroke-opacity:0.1; fill:none\" points=\"\n  232.551,245.323 2352.76,245.323 \n  \"/>\n<polyline clip-path=\"url(#clip840)\" style=\"stroke:#000000; stroke-linecap:butt; stroke-linejoin:round; stroke-width:4; stroke-opacity:1; fill:none\" points=\"\n  232.551,1405.9 232.551,47.2441 \n  \"/>\n<polyline clip-path=\"url(#clip840)\" style=\"stroke:#000000; stroke-linecap:butt; stroke-linejoin:round; stroke-width:4; stroke-opacity:1; fill:none\" points=\"\n  232.551,1374.06 251.449,1374.06 \n  \"/>\n<polyline clip-path=\"url(#clip840)\" style=\"stroke:#000000; stroke-linecap:butt; stroke-linejoin:round; stroke-width:4; stroke-opacity:1; fill:none\" points=\"\n  232.551,1091.88 251.449,1091.88 \n  \"/>\n<polyline clip-path=\"url(#clip840)\" style=\"stroke:#000000; stroke-linecap:butt; stroke-linejoin:round; stroke-width:4; stroke-opacity:1; fill:none\" points=\"\n  232.551,809.691 251.449,809.691 \n  \"/>\n<polyline clip-path=\"url(#clip840)\" style=\"stroke:#000000; stroke-linecap:butt; stroke-linejoin:round; stroke-width:4; stroke-opacity:1; fill:none\" points=\"\n  232.551,527.507 251.449,527.507 \n  \"/>\n<polyline clip-path=\"url(#clip840)\" style=\"stroke:#000000; stroke-linecap:butt; stroke-linejoin:round; stroke-width:4; stroke-opacity:1; fill:none\" points=\"\n  232.551,245.323 251.449,245.323 \n  \"/>\n<path clip-path=\"url(#clip840)\" d=\"M178.635 1352.76 Q173.218 1352.76 170.475 1358.11 Q167.767 1363.42 167.767 1374.11 Q167.767 1384.77 170.475 1390.12 Q173.218 1395.43 178.635 1395.43 Q184.086 1395.43 186.794 1390.12 Q189.538 1384.77 189.538 1374.11 Q189.538 1363.42 186.794 1358.11 Q184.086 1352.76 178.635 1352.76 M178.635 1347.2 Q187.35 1347.2 191.933 1354.11 Q196.551 1360.99 196.551 1374.11 Q196.551 1387.2 191.933 1394.11 Q187.35 1400.99 178.635 1400.99 Q169.92 1400.99 165.302 1394.11 Q160.718 1387.2 160.718 1374.11 Q160.718 1360.99 165.302 1354.11 Q169.92 1347.2 178.635 1347.2 Z\" fill=\"#000000\" fill-rule=\"evenodd\" fill-opacity=\"1\" /><path clip-path=\"url(#clip840)\" d=\"M124.434 1111.89 L148.913 1111.89 L148.913 1117.8 L115.996 1117.8 L115.996 1111.89 Q119.989 1107.76 126.864 1100.82 Q133.774 1093.84 135.545 1091.82 Q138.913 1088.04 140.232 1085.43 Q141.586 1082.8 141.586 1080.26 Q141.586 1076.13 138.67 1073.52 Q135.788 1070.92 131.135 1070.92 Q127.836 1070.92 124.156 1072.07 Q120.51 1073.21 116.343 1075.54 L116.343 1068.46 Q120.58 1066.75 124.26 1065.89 Q127.941 1065.02 130.996 1065.02 Q139.052 1065.02 143.843 1069.05 Q148.635 1073.07 148.635 1079.81 Q148.635 1083 147.42 1085.89 Q146.239 1088.73 143.079 1092.62 Q142.211 1093.63 137.559 1098.46 Q132.906 1103.25 124.434 1111.89 Z\" fill=\"#000000\" fill-rule=\"evenodd\" fill-opacity=\"1\" /><path clip-path=\"url(#clip840)\" d=\"M178.635 1070.57 Q173.218 1070.57 170.475 1075.92 Q167.767 1081.23 167.767 1091.93 Q167.767 1102.59 170.475 1107.93 Q173.218 1113.25 178.635 1113.25 Q184.086 1113.25 186.794 1107.93 Q189.538 1102.59 189.538 1091.93 Q189.538 1081.23 186.794 1075.92 Q184.086 1070.57 178.635 1070.57 M178.635 1065.02 Q187.35 1065.02 191.933 1071.93 Q196.551 1078.8 196.551 1091.93 Q196.551 1105.02 191.933 1111.93 Q187.35 1118.8 178.635 1118.8 Q169.92 1118.8 165.302 1111.93 Q160.718 1105.02 160.718 1091.93 Q160.718 1078.8 165.302 1071.93 Q169.92 1065.02 178.635 1065.02 Z\" fill=\"#000000\" fill-rule=\"evenodd\" fill-opacity=\"1\" /><path clip-path=\"url(#clip840)\" d=\"M137.663 789.882 L119.955 817.556 L137.663 817.556 L137.663 789.882 M135.823 783.771 L144.642 783.771 L144.642 817.556 L152.038 817.556 L152.038 823.389 L144.642 823.389 L144.642 835.611 L137.663 835.611 L137.663 823.389 L114.26 823.389 L114.26 816.618 L135.823 783.771 Z\" fill=\"#000000\" fill-rule=\"evenodd\" fill-opacity=\"1\" /><path clip-path=\"url(#clip840)\" d=\"M178.635 788.389 Q173.218 788.389 170.475 793.737 Q167.767 799.049 167.767 809.743 Q167.767 820.403 170.475 825.75 Q173.218 831.063 178.635 831.063 Q184.086 831.063 186.794 825.75 Q189.538 820.403 189.538 809.743 Q189.538 799.049 186.794 793.737 Q184.086 788.389 178.635 788.389 M178.635 782.834 Q187.35 782.834 191.933 789.743 Q196.551 796.618 196.551 809.743 Q196.551 822.834 191.933 829.743 Q187.35 836.618 178.635 836.618 Q169.92 836.618 165.302 829.743 Q160.718 822.834 160.718 809.743 Q160.718 796.618 165.302 789.743 Q169.92 782.834 178.635 782.834 Z\" fill=\"#000000\" fill-rule=\"evenodd\" fill-opacity=\"1\" /><path clip-path=\"url(#clip840)\" d=\"M134.26 524.712 Q129.538 524.712 126.76 527.941 Q124.017 531.17 124.017 536.795 Q124.017 542.385 126.76 545.649 Q129.538 548.878 134.26 548.878 Q138.982 548.878 141.725 545.649 Q144.503 542.385 144.503 536.795 Q144.503 531.17 141.725 527.941 Q138.982 524.712 134.26 524.712 M148.184 502.733 L148.184 509.122 Q145.545 507.872 142.836 507.212 Q140.163 506.552 137.524 506.552 Q130.58 506.552 126.899 511.24 Q123.253 515.927 122.732 525.406 Q124.781 522.386 127.871 520.788 Q130.961 519.156 134.677 519.156 Q142.489 519.156 147.003 523.913 Q151.552 528.636 151.552 536.795 Q151.552 544.781 146.829 549.608 Q142.107 554.434 134.26 554.434 Q125.267 554.434 120.51 547.559 Q115.753 540.649 115.753 527.559 Q115.753 515.268 121.587 507.976 Q127.42 500.65 137.246 500.65 Q139.885 500.65 142.559 501.17 Q145.267 501.691 148.184 502.733 Z\" fill=\"#000000\" fill-rule=\"evenodd\" fill-opacity=\"1\" /><path clip-path=\"url(#clip840)\" d=\"M178.635 506.205 Q173.218 506.205 170.475 511.552 Q167.767 516.865 167.767 527.559 Q167.767 538.219 170.475 543.566 Q173.218 548.878 178.635 548.878 Q184.086 548.878 186.794 543.566 Q189.538 538.219 189.538 527.559 Q189.538 516.865 186.794 511.552 Q184.086 506.205 178.635 506.205 M178.635 500.65 Q187.35 500.65 191.933 507.559 Q196.551 514.434 196.551 527.559 Q196.551 540.649 191.933 547.559 Q187.35 554.434 178.635 554.434 Q169.92 554.434 165.302 547.559 Q160.718 540.649 160.718 527.559 Q160.718 514.434 165.302 507.559 Q169.92 500.65 178.635 500.65 Z\" fill=\"#000000\" fill-rule=\"evenodd\" fill-opacity=\"1\" /><path clip-path=\"url(#clip840)\" d=\"M133.392 246.625 Q128.392 246.625 125.51 249.298 Q122.663 251.972 122.663 256.66 Q122.663 261.347 125.51 264.021 Q128.392 266.694 133.392 266.694 Q138.392 266.694 141.274 264.021 Q144.156 261.312 144.156 256.66 Q144.156 251.972 141.274 249.298 Q138.427 246.625 133.392 246.625 M126.378 243.639 Q121.864 242.528 119.33 239.437 Q116.83 236.347 116.83 231.903 Q116.83 225.687 121.239 222.076 Q125.684 218.465 133.392 218.465 Q141.135 218.465 145.545 222.076 Q149.954 225.687 149.954 231.903 Q149.954 236.347 147.42 239.437 Q144.92 242.528 140.441 243.639 Q145.51 244.819 148.322 248.257 Q151.17 251.694 151.17 256.66 Q151.17 264.194 146.552 268.222 Q141.968 272.25 133.392 272.25 Q124.816 272.25 120.198 268.222 Q115.614 264.194 115.614 256.66 Q115.614 251.694 118.462 248.257 Q121.309 244.819 126.378 243.639 M123.809 232.562 Q123.809 236.59 126.309 238.847 Q128.843 241.104 133.392 241.104 Q137.906 241.104 140.441 238.847 Q143.01 236.59 143.01 232.562 Q143.01 228.535 140.441 226.278 Q137.906 224.021 133.392 224.021 Q128.843 224.021 126.309 226.278 Q123.809 228.535 123.809 232.562 Z\" fill=\"#000000\" fill-rule=\"evenodd\" fill-opacity=\"1\" /><path clip-path=\"url(#clip840)\" d=\"M178.635 224.021 Q173.218 224.021 170.475 229.368 Q167.767 234.68 167.767 245.375 Q167.767 256.035 170.475 261.382 Q173.218 266.694 178.635 266.694 Q184.086 266.694 186.794 261.382 Q189.538 256.035 189.538 245.375 Q189.538 234.68 186.794 229.368 Q184.086 224.021 178.635 224.021 M178.635 218.465 Q187.35 218.465 191.933 225.375 Q196.551 232.25 196.551 245.375 Q196.551 258.465 191.933 265.375 Q187.35 272.25 178.635 272.25 Q169.92 272.25 165.302 265.375 Q160.718 258.465 160.718 245.375 Q160.718 232.25 165.302 225.375 Q169.92 218.465 178.635 218.465 Z\" fill=\"#000000\" fill-rule=\"evenodd\" fill-opacity=\"1\" /><path clip-path=\"url(#clip840)\" d=\"M30.8114 938.683 L28.7503 938.683 Q28.7503 930.76 24.5313 926.67 Q24.5313 925.543 24.7889 925.349 Q25.0466 925.156 26.2382 925.156 L63.2427 925.156 Q65.2073 925.156 65.8192 924.19 Q66.4311 923.224 66.4311 919.005 L66.4311 916.912 L68.4601 916.912 Q68.2669 919.23 68.2669 927.604 Q68.2669 935.977 68.4601 938.264 L66.4311 938.264 L66.4311 936.171 Q66.4311 932.016 65.8514 931.018 Q65.2395 930.019 63.2427 930.019 L29.0723 930.019 Q30.8114 933.465 30.8114 938.683 Z\" fill=\"#000000\" fill-rule=\"evenodd\" fill-opacity=\"1\" /><path clip-path=\"url(#clip840)\" d=\"M84.0155 906.019 Q83.6935 906.019 82.9849 905.761 L20.7632 882.476 Q20.6988 882.476 20.3445 882.315 Q19.9903 882.154 19.7648 882.057 Q19.5072 881.961 19.314 881.768 Q19.1207 881.542 19.1207 881.285 Q19.1207 880.64 19.9259 880.64 Q19.9903 880.64 20.7632 880.834 L83.0494 904.183 Q84.1766 904.569 84.4986 904.827 Q84.8207 905.052 84.8207 905.439 Q84.8207 906.019 84.0155 906.019 Z\" fill=\"#000000\" fill-rule=\"evenodd\" fill-opacity=\"1\" /><path clip-path=\"url(#clip840)\" d=\"M40.28 836.414 Q40.5054 836.189 40.8275 836.189 Q41.1495 836.189 41.8903 836.93 L59.4747 852.614 Q80.5373 846.624 80.5373 843.339 Q80.5373 842.34 79.7644 841.31 Q79.0236 840.247 77.8964 839.828 Q77.3489 839.667 77.1557 839.506 Q76.9624 839.345 76.9624 838.894 Q76.9624 838.121 77.7032 838.121 Q78.0896 838.121 78.7338 838.476 Q79.4101 838.83 80.1508 839.474 Q80.9238 840.118 81.4391 841.245 Q81.9866 842.373 81.9866 843.725 Q81.9866 845.4 81.6001 846.753 Q81.2136 848.105 80.7305 848.878 Q80.2474 849.651 79.3779 850.36 Q78.5405 851.036 78.0252 851.294 Q77.5421 851.519 76.7048 851.905 Q74.9013 852.678 72.9045 853.387 Q70.9077 854.095 69.4585 854.546 Q68.0092 854.997 63.5648 856.382 L80.5373 871.487 Q81.2458 872.195 81.2458 872.549 Q81.2458 872.839 80.9882 873.097 Q80.7627 873.355 80.4729 873.355 Q80.1508 873.355 79.4101 872.614 L62.4698 857.445 Q62.2444 857.219 62.0511 857.091 Q61.8579 856.962 61.7935 856.962 L61.7291 856.93 Q61.568 856.93 59.5069 857.509 Q57.4457 858.089 54.2573 859.152 Q51.0367 860.182 48.6857 861.149 Q47.1076 861.76 46.1414 862.179 Q45.1753 862.598 43.726 863.339 Q42.2767 864.047 41.536 864.788 Q40.7631 865.529 40.7631 866.205 Q40.7631 866.43 40.8597 866.785 Q40.9563 867.139 41.2139 867.719 Q41.4394 868.266 42.0835 868.814 Q42.6954 869.361 43.5972 869.715 Q44.3057 870.005 44.3057 870.553 Q44.3057 870.907 44.1447 871.132 Q43.9836 871.326 43.8226 871.326 L43.6616 871.358 Q43.0819 871.358 42.1157 870.81 Q41.1495 870.263 40.2478 868.91 Q39.3138 867.558 39.3138 865.818 Q39.3138 864.176 39.7003 862.823 Q40.0867 861.471 40.5376 860.73 Q40.9885 859.957 41.8258 859.281 Q42.631 858.604 43.0175 858.411 Q43.3717 858.186 44.1125 857.831 Q46.6245 856.736 48.7823 856.028 Q50.9079 855.287 57.6389 853.162 L40.8275 838.057 Q40.0223 837.381 40.0223 836.994 Q40.0223 836.64 40.28 836.414 Z\" fill=\"#000000\" fill-rule=\"evenodd\" fill-opacity=\"1\" /><path clip-path=\"url(#clip840)\" d=\"M51.9707 827.709 Q40.8275 827.709 31.842 823.554 Q28.0739 821.783 24.9178 819.303 Q21.7616 816.823 20.3767 815.181 Q18.9919 813.538 18.9919 813.087 Q18.9919 812.443 19.636 812.411 Q19.9581 812.411 20.7632 813.28 Q31.5844 823.908 51.9707 823.876 Q72.4214 823.876 82.8239 813.538 Q83.9511 812.411 84.3054 812.411 Q84.9495 812.411 84.9495 813.087 Q84.9495 813.538 83.6291 815.116 Q82.3086 816.694 79.2813 819.142 Q76.2539 821.59 72.5502 823.361 Q63.5648 827.709 51.9707 827.709 Z\" fill=\"#000000\" fill-rule=\"evenodd\" fill-opacity=\"1\" /><path clip-path=\"url(#clip840)\" d=\"M59.0238 753.356 Q59.2814 753.356 60.2798 753.646 Q61.2782 753.936 62.8241 754.644 Q64.37 755.32 65.787 756.287 Q67.1719 757.221 68.2024 758.766 Q69.2008 760.28 69.2008 762.019 Q69.2008 764.338 67.6549 765.884 Q66.1091 767.43 63.7902 767.43 Q62.5342 767.43 60.151 766.56 Q49.2654 762.47 45.3685 762.47 Q40.7631 762.47 40.7631 766.045 Q40.7631 768.074 41.6004 769.91 Q42.4378 771.745 43.5972 772.937 Q44.7566 774.129 46.077 775.063 Q47.3975 775.997 48.267 776.415 Q49.1366 776.802 49.523 776.898 L65.4327 780.86 Q66.7854 781.182 67.4295 781.407 Q68.0736 781.633 68.6211 782.245 Q69.2008 782.856 69.2008 783.823 Q69.2008 784.628 68.7177 785.207 Q68.2347 785.755 67.3973 785.755 Q67.2685 785.755 66.5922 785.594 Q65.9158 785.433 64.9819 785.207 Q64.0479 784.982 63.5004 784.885 Q59.1204 783.726 58.5085 783.565 L50.8435 781.729 Q47.0432 780.731 45.3685 780.731 Q40.7631 780.731 40.7631 784.306 Q40.7631 786.077 41.4394 787.752 Q42.0835 789.394 42.9853 790.521 Q43.887 791.649 45.1431 792.679 Q46.3669 793.678 47.2042 794.193 Q48.0094 794.676 48.8145 795.062 L52.0995 795.9 Q53.0013 796.093 56.5117 797.027 L62.4698 798.476 Q66.9142 799.507 67.3329 799.732 Q68.2347 800.054 68.7177 800.763 Q69.2008 801.471 69.2008 802.18 Q69.2008 802.985 68.7177 803.533 Q68.2347 804.08 67.3973 804.08 Q67.2685 804.08 66.7854 803.983 Q66.3023 803.887 65.626 803.726 Q64.9497 803.565 64.5632 803.5 L49.3298 799.668 Q46.5601 798.959 45.6906 798.798 Q44.7888 798.605 43.7904 798.605 Q40.7631 798.605 40.7631 800.666 Q40.7631 802.341 42.7598 803.436 Q44.7566 804.531 48.6213 805.465 Q49.6841 805.755 49.9095 805.948 Q50.135 806.109 50.135 806.592 Q50.1028 807.397 49.4586 807.397 Q49.2976 807.397 48.267 807.14 Q47.2364 806.882 45.6906 806.399 Q44.1125 805.884 43.0819 805.336 Q42.4056 805.014 41.9547 804.724 Q41.5038 804.434 40.7953 803.855 Q40.0867 803.275 39.7003 802.405 Q39.3138 801.536 39.3138 800.473 Q39.3138 798.122 40.8275 796.383 Q42.3411 794.612 45.0464 794.386 Q39.3138 790.103 39.3138 784.112 Q39.3138 780.731 41.0207 778.702 Q42.6632 776.802 45.6906 776.576 Q39.3138 772.132 39.3138 765.82 Q39.3138 762.18 41.2139 760.216 Q43.0819 758.251 46.3669 758.251 Q48.0738 758.251 51.3266 759.121 Q54.5472 759.99 56.1575 760.57 Q57.7677 761.15 60.8595 762.277 Q63.8225 763.468 65.5616 763.468 Q66.6888 763.468 67.2041 763.082 Q67.7194 762.696 67.7194 761.858 Q67.7194 760.57 66.9786 759.443 Q66.2057 758.316 64.9497 757.51 Q63.6614 756.673 62.3732 756.126 Q61.0527 755.578 59.5713 755.159 Q58.7661 754.902 58.5729 754.773 Q58.3797 754.612 58.3797 754.161 Q58.3797 753.356 59.0238 753.356 Z\" fill=\"#000000\" fill-rule=\"evenodd\" fill-opacity=\"1\" /><path clip-path=\"url(#clip840)\" d=\"M50.457 720.743 Q53.9675 720.743 57.4457 722.289 Q60.8917 723.835 63.4682 726.315 Q66.0124 728.763 67.6227 731.983 Q69.2008 735.204 69.2008 738.424 Q69.2008 743.03 66.0769 746.025 Q62.9207 748.988 58.0254 748.988 Q53.4522 748.988 49.1044 746.444 Q44.7244 743.867 42.0191 739.745 Q39.3138 735.622 39.3138 731.307 Q39.3138 726.766 42.3733 723.771 Q45.4329 720.743 50.457 720.743 M47.8805 725.574 Q44.7566 725.574 42.7598 727.088 Q40.7631 728.601 40.7631 731.371 Q40.7631 732.176 41.0207 733.11 Q41.2461 734.044 41.8581 735.268 Q42.47 736.46 43.7582 737.812 Q45.0142 739.133 46.8178 740.292 Q49.201 741.806 53.581 742.965 Q57.9288 744.093 60.5375 744.093 Q64.1445 744.093 65.948 742.418 Q67.7194 740.743 67.7194 738.36 Q67.7194 736.041 66.1091 733.593 Q64.4666 731.114 61.6647 729.407 Q58.7661 727.7 54.515 726.637 Q50.2316 725.574 47.8805 725.574 Z\" fill=\"#000000\" fill-rule=\"evenodd\" fill-opacity=\"1\" /><path clip-path=\"url(#clip840)\" d=\"M23.4041 703.206 L61.5358 712.707 Q63.0495 713.094 64.692 713.094 Q67.7194 713.094 67.7194 711.097 Q67.7194 710.163 67.1074 709.39 Q66.4633 708.617 65.2073 708.037 Q63.9191 707.425 62.6952 707.039 Q61.4714 706.62 59.5713 706.105 Q58.8305 705.944 58.6051 705.783 Q58.3797 705.622 58.3797 705.171 Q58.3797 704.366 59.0238 704.366 Q62.9851 705.171 65.4972 706.363 Q69.2008 708.102 69.2008 711.322 Q69.2008 713.738 67.5261 715.541 Q65.8192 717.313 63.1139 717.313 Q62.0833 717.313 60.8595 716.991 L27.8807 708.681 L26.5925 708.456 Q26.2382 708.456 26.045 708.585 Q25.8517 708.714 25.6585 709.487 Q25.4653 710.227 25.4653 711.709 Q25.4653 712.321 25.4331 712.611 Q25.4009 712.868 25.2398 713.126 Q25.0788 713.351 24.7245 713.351 Q24.1448 713.351 23.8228 713.126 Q23.5007 712.868 23.4363 712.675 Q23.3719 712.482 23.3397 712.095 Q23.3075 711.548 23.1464 709.712 Q22.9532 707.876 22.8244 706.298 Q22.6956 704.72 22.6956 704.044 Q22.6956 703.657 22.8888 703.464 Q23.0498 703.239 23.2431 703.206 L23.4041 703.206 Z\" fill=\"#000000\" fill-rule=\"evenodd\" fill-opacity=\"1\" /><path clip-path=\"url(#clip840)\" d=\"M84.0155 697.855 Q83.6935 697.855 82.9849 697.597 L20.7632 674.312 Q20.6988 674.312 20.3445 674.151 Q19.9903 673.99 19.7648 673.893 Q19.5072 673.797 19.314 673.603 Q19.1207 673.378 19.1207 673.12 Q19.1207 672.476 19.9259 672.476 Q19.9903 672.476 20.7632 672.67 L83.0494 696.019 Q84.1766 696.405 84.4986 696.663 Q84.8207 696.888 84.8207 697.275 Q84.8207 697.855 84.0155 697.855 Z\" fill=\"#000000\" fill-rule=\"evenodd\" fill-opacity=\"1\" /><path clip-path=\"url(#clip840)\" d=\"M60.8273 640.102 Q61.1172 639.844 61.407 639.844 Q61.6969 639.844 62.5342 640.489 Q63.3716 641.1 64.4988 642.421 Q65.626 643.741 66.6888 645.448 Q67.7516 647.155 68.4601 649.667 Q69.2008 652.179 69.2008 654.82 Q69.2008 659.554 65.8192 662.389 Q62.4376 665.19 57.2525 665.19 Q53.9353 665.19 51.0045 664.095 Q48.0416 663 45.9482 661.229 Q43.8548 659.426 42.3411 657.171 Q40.7953 654.885 40.0545 652.501 Q39.3138 650.118 39.3138 647.896 Q39.3138 644.643 40.9563 642.743 Q42.5988 640.843 44.9176 640.843 Q45.4651 640.843 46.1414 641.004 Q46.8178 641.133 47.8805 641.584 Q48.9433 642.002 50.0061 643.097 Q51.0367 644.192 51.713 645.803 Q53.2267 649.377 53.2267 655.883 L53.2267 659.393 Q57.3813 660.424 60.0866 660.424 Q61.1494 660.424 62.2444 660.231 Q63.3072 660.038 64.6598 659.522 Q66.0124 658.975 66.882 657.751 Q67.7194 656.495 67.7194 654.691 Q67.7194 654.112 67.6872 653.5 Q67.6549 652.856 67.3007 651.245 Q66.9464 649.603 66.3345 648.154 Q65.7226 646.704 64.4022 644.869 Q63.0495 643.001 61.2138 641.519 Q60.5375 641.004 60.5375 640.65 Q60.5375 640.36 60.8273 640.102 M44.9176 643.033 Q43.1463 643.033 41.9547 644.353 Q40.7631 645.641 40.7631 647.896 Q40.7631 648.604 40.9241 649.474 Q41.0851 650.344 41.7614 651.793 Q42.4378 653.21 43.565 654.466 Q44.66 655.722 46.8178 656.978 Q48.9433 658.234 51.7775 658.975 L51.7775 656.269 Q51.7775 655.335 51.7775 654.659 Q51.7453 653.983 51.6164 652.501 Q51.4876 650.988 51.2622 649.893 Q51.0045 648.798 50.4892 647.413 Q49.9739 646.028 49.2976 645.158 Q48.5891 644.257 47.4619 643.645 Q46.3347 643.033 44.9176 643.033 Z\" fill=\"#000000\" fill-rule=\"evenodd\" fill-opacity=\"1\" /><path clip-path=\"url(#clip840)\" d=\"M59.0238 582.038 Q59.2814 582.038 60.2798 582.328 Q61.2782 582.618 62.8241 583.326 Q64.37 584.002 65.787 584.969 Q67.1719 585.903 68.2024 587.448 Q69.2008 588.962 69.2008 590.701 Q69.2008 593.02 67.6549 594.566 Q66.1091 596.112 63.7902 596.112 Q62.5342 596.112 60.151 595.242 Q49.2654 591.152 45.3685 591.152 Q40.7631 591.152 40.7631 594.727 Q40.7631 596.756 41.6004 598.592 Q42.4378 600.427 43.5972 601.619 Q44.7566 602.811 46.077 603.745 Q47.3975 604.679 48.267 605.097 Q49.1366 605.484 49.523 605.58 L65.4327 609.542 Q66.7854 609.864 67.4295 610.089 Q68.0736 610.315 68.6211 610.927 Q69.2008 611.538 69.2008 612.505 Q69.2008 613.31 68.7177 613.889 Q68.2347 614.437 67.3973 614.437 Q67.2685 614.437 66.5922 614.276 Q65.9158 614.115 64.9819 613.889 Q64.0479 613.664 63.5004 613.567 Q59.1204 612.408 58.5085 612.247 L50.8435 610.411 Q47.0432 609.413 45.3685 609.413 Q40.7631 609.413 40.7631 612.988 Q40.7631 614.759 41.4394 616.434 Q42.0835 618.076 42.9853 619.203 Q43.887 620.331 45.1431 621.361 Q46.3669 622.36 47.2042 622.875 Q48.0094 623.358 48.8145 623.744 L52.0995 624.582 Q53.0013 624.775 56.5117 625.709 L62.4698 627.158 Q66.9142 628.189 67.3329 628.414 Q68.2347 628.736 68.7177 629.445 Q69.2008 630.153 69.2008 630.862 Q69.2008 631.667 68.7177 632.215 Q68.2347 632.762 67.3973 632.762 Q67.2685 632.762 66.7854 632.665 Q66.3023 632.569 65.626 632.408 Q64.9497 632.247 64.5632 632.182 L49.3298 628.35 Q46.5601 627.641 45.6906 627.48 Q44.7888 627.287 43.7904 627.287 Q40.7631 627.287 40.7631 629.348 Q40.7631 631.023 42.7598 632.118 Q44.7566 633.213 48.6213 634.147 Q49.6841 634.437 49.9095 634.63 Q50.135 634.791 50.135 635.274 Q50.1028 636.079 49.4586 636.079 Q49.2976 636.079 48.267 635.822 Q47.2364 635.564 45.6906 635.081 Q44.1125 634.566 43.0819 634.018 Q42.4056 633.696 41.9547 633.406 Q41.5038 633.116 40.7953 632.537 Q40.0867 631.957 39.7003 631.087 Q39.3138 630.218 39.3138 629.155 Q39.3138 626.804 40.8275 625.065 Q42.3411 623.294 45.0464 623.068 Q39.3138 618.785 39.3138 612.794 Q39.3138 609.413 41.0207 607.384 Q42.6632 605.484 45.6906 605.258 Q39.3138 600.814 39.3138 594.502 Q39.3138 590.862 41.2139 588.898 Q43.0819 586.933 46.3669 586.933 Q48.0738 586.933 51.3266 587.803 Q54.5472 588.672 56.1575 589.252 Q57.7677 589.832 60.8595 590.959 Q63.8225 592.15 65.5616 592.15 Q66.6888 592.15 67.2041 591.764 Q67.7194 591.378 67.7194 590.54 Q67.7194 589.252 66.9786 588.125 Q66.2057 586.998 64.9497 586.192 Q63.6614 585.355 62.3732 584.808 Q61.0527 584.26 59.5713 583.841 Q58.7661 583.584 58.5729 583.455 Q58.3797 583.294 58.3797 582.843 Q58.3797 582.038 59.0238 582.038 Z\" fill=\"#000000\" fill-rule=\"evenodd\" fill-opacity=\"1\" /><path clip-path=\"url(#clip840)\" d=\"M59.0238 545.077 Q63.1783 545.914 65.5616 547.042 Q69.2008 548.877 69.2008 551.937 Q69.2008 554.062 68.0092 555.673 Q66.7854 557.251 64.7564 557.798 Q65.5616 558.41 66.1091 558.958 Q66.6566 559.473 67.4939 560.471 Q68.2991 561.47 68.7499 562.822 Q69.2008 564.143 69.2008 565.657 Q69.2008 566.816 68.9754 567.879 Q68.7822 568.942 68.2347 570.069 Q67.6549 571.164 66.7854 571.969 Q65.9158 572.742 64.4988 573.257 Q63.0817 573.772 61.2782 573.772 Q59.0238 573.772 55.9642 572.903 Q52.9047 572.001 47.4297 569.94 Q44.5311 568.813 42.9208 568.813 Q42.1801 568.813 41.697 568.974 Q41.2139 569.135 41.0529 569.457 Q40.8597 569.747 40.8275 569.94 Q40.7631 570.133 40.7631 570.455 Q40.7631 572.452 42.792 574.191 Q44.821 575.93 48.9433 577.122 Q49.7485 577.379 49.9417 577.541 Q50.135 577.702 50.135 578.185 Q50.1028 578.99 49.4586 578.99 Q49.201 578.99 48.2026 578.7 Q47.172 578.41 45.6583 577.734 Q44.1125 577.025 42.7276 576.059 Q41.3106 575.093 40.3122 573.579 Q39.3138 572.033 39.3138 570.262 Q39.3138 567.847 40.8919 566.365 Q42.4378 564.851 44.7244 564.851 Q46.1414 564.851 48.8789 565.979 Q58.3797 569.553 62.341 569.553 Q67.7194 569.553 67.7194 565.463 Q67.7194 564.111 67.1719 562.855 Q66.6244 561.566 65.8514 560.729 Q65.0785 559.892 64.2411 559.248 Q63.4038 558.571 62.8563 558.281 Q62.3088 557.959 62.18 557.927 L42.3411 553 Q41.5682 552.806 41.0529 552.452 Q40.5054 552.066 40.3122 551.615 Q40.1189 551.164 40.0867 550.906 Q40.0223 550.649 40.0223 550.423 Q40.0223 549.618 40.5054 549.071 Q40.9885 548.491 41.8258 548.491 Q41.9869 548.491 42.7598 548.684 Q43.5006 548.845 44.5956 549.103 Q45.6583 549.36 46.2381 549.489 Q50.296 550.52 50.7147 550.616 L57.8322 552.452 Q58.2508 552.549 59.6035 552.871 Q60.9561 553.161 61.6647 553.322 Q62.341 553.483 63.275 553.644 Q64.1767 553.773 64.692 553.773 Q66.3023 553.773 67.0108 553.29 Q67.7194 552.806 67.7194 551.744 Q67.7194 550.745 67.043 549.972 Q66.3345 549.167 64.9819 548.555 Q63.597 547.943 62.4698 547.589 Q61.3426 547.235 59.5713 546.784 Q58.7983 546.623 58.6051 546.494 Q58.3797 546.333 58.3797 545.882 Q58.3797 545.077 59.0238 545.077 Z\" fill=\"#000000\" fill-rule=\"evenodd\" fill-opacity=\"1\" /><path clip-path=\"url(#clip840)\" d=\"M84.3054 539.789 Q83.9833 539.789 83.1782 538.951 Q72.357 528.323 51.9707 528.323 Q31.52 528.323 21.1819 538.533 Q19.9903 539.789 19.636 539.789 Q18.9919 539.789 18.9919 539.145 Q18.9919 538.694 20.3123 537.116 Q21.6328 535.505 24.6601 533.09 Q27.6875 530.642 31.3911 528.839 Q40.3766 524.491 51.9707 524.491 Q63.1139 524.491 72.0994 528.645 Q75.8674 530.417 79.0236 532.897 Q82.1798 535.376 83.5646 537.019 Q84.9495 538.661 84.9495 539.145 Q84.9495 539.789 84.3054 539.789 Z\" fill=\"#000000\" fill-rule=\"evenodd\" fill-opacity=\"1\" /><polyline clip-path=\"url(#clip842)\" style=\"stroke:#0000ff; stroke-linecap:butt; stroke-linejoin:round; stroke-width:4; stroke-opacity:1; fill:none\" points=\"\n  292.557,1367.45 298.288,1361.15 304.02,1354.6 309.751,1348.58 315.482,1341.9 321.213,1336.1 326.944,1329.93 332.676,1324.07 338.407,1317.74 344.138,1311.95 \n  349.869,1305.79 355.601,1299.95 361.332,1294.24 367.063,1288.5 372.794,1282.87 378.525,1277.17 384.257,1271.55 389.988,1266.26 395.719,1260.4 401.45,1255.04 \n  407.181,1249.77 412.913,1244.42 418.644,1239.04 424.375,1233.72 430.106,1228.73 435.837,1223.12 441.569,1218.21 447.3,1212.87 453.031,1208.16 458.762,1203.11 \n  464.494,1198.33 470.225,1193.04 475.956,1188.44 481.687,1183.84 487.418,1179.14 493.15,1174.3 498.881,1169.27 504.612,1164.74 510.343,1160.14 516.074,1155.52 \n  521.806,1150.79 527.537,1146.68 533.268,1141.98 538.999,1137.97 544.73,1133.46 550.462,1129 556.193,1125.05 561.924,1120.48 567.655,1116.38 573.387,1112.31 \n  579.118,1108.13 584.849,1103.92 590.58,1099.92 596.311,1095.84 602.043,1091.84 607.774,1087.85 613.505,1084.03 619.236,1080.25 624.967,1076.4 630.699,1072.37 \n  636.43,1068.61 642.161,1064.93 647.892,1061.17 653.624,1057.39 659.355,1053.15 665.086,1049.73 670.817,1046.13 676.548,1042.45 682.28,1038.65 688.011,1035.18 \n  693.742,1031.45 699.473,1028.04 705.204,1024.47 710.936,1020.94 716.667,1017.53 722.398,1013.98 728.129,1010.36 733.86,1007.05 739.592,1003.34 745.323,1000.26 \n  751.054,996.394 756.785,993.088 762.517,989.602 768.248,986.09 773.979,982.79 779.71,979.343 785.441,976.128 791.173,972.381 796.904,969.069 802.635,965.705 \n  808.366,962.504 814.097,959.128 819.829,955.406 825.56,952.036 831.291,949.113 837.022,945.539 842.754,942.345 848.485,938.955 854.216,935.743 859.947,932.28 \n  865.678,929.117 871.41,925.9 877.141,922.457 882.872,918.929 888.603,915.68 894.334,912.601 900.066,909.333 905.797,905.817 911.528,902.64 917.259,899.399 \n  922.99,896.046 928.722,892.734 934.453,889.231 940.184,885.862 945.915,882.626 951.647,879.679 957.378,876.232 963.109,872.814 968.84,869.736 974.571,866.09 \n  980.303,862.847 986.034,859.942 991.765,856.378 997.496,852.958 1003.23,849.952 1008.96,846.632 1014.69,843.281 1020.42,839.97 1026.15,836.659 1031.88,833.353 \n  1037.61,830.191 1043.35,826.72 1049.08,823.625 1054.81,820.077 1060.54,816.819 1066.27,813.594 1072,810.415 1077.73,806.695 1083.46,803.578 1089.2,800.112 \n  1094.93,797.201 1100.66,793.74 1106.39,790.363 1112.12,787.003 1117.85,783.702 1123.58,780.332 1129.31,777.031 1135.05,773.863 1140.78,770.468 1146.51,767.059 \n  1152.24,763.78 1157.97,760.651 1163.7,757.354 1169.43,753.714 1175.16,750.664 1180.9,747.432 1186.63,744.022 1192.36,740.589 1198.09,737.187 1203.82,734.018 \n  1209.55,730.976 1215.28,727.09 1221.01,723.956 1226.74,720.555 1232.48,717.308 1238.21,714.157 1243.94,710.905 1249.67,707.281 1255.4,704.014 1261.13,700.63 \n  1266.86,697.199 1272.59,693.795 1278.33,690.342 1284.06,687.247 1289.79,683.802 1295.52,680.634 1301.25,677.143 1306.98,673.999 1312.71,670.414 1318.44,667.12 \n  1324.18,663.899 1329.91,660.426 1335.64,657.129 1341.37,653.96 1347.1,650.41 1352.83,647.035 1358.56,643.603 1364.29,640.185 1370.03,636.982 1375.76,633.571 \n  1381.49,630.213 1387.22,626.611 1392.95,623.619 1398.68,620.06 1404.41,616.688 1410.14,613.39 1415.87,610.018 1421.61,606.692 1427.34,603.206 1433.07,599.506 \n  1438.8,596.543 1444.53,592.983 1450.26,589.466 1455.99,586.39 1461.72,582.685 1467.46,579.482 1473.19,576.116 1478.92,573.032 1484.65,569.21 1490.38,565.821 \n  1496.11,562.651 1501.84,559.047 1507.57,555.847 1513.31,552.325 1519.04,548.967 1524.77,545.796 1530.5,542.335 1536.23,538.716 1541.96,535.358 1547.69,532.14 \n  1553.42,528.606 1559.15,525.321 1564.89,521.755 1570.62,518.56 1576.35,515.078 1582.08,511.827 1587.81,508.248 1593.54,504.558 1599.27,501.412 1605,498.089 \n  1610.74,494.357 1616.47,491.392 1622.2,488.001 1627.93,484.381 1633.66,480.909 1639.39,477.83 1645.12,474.26 1650.85,470.914 1656.59,467.319 1662.32,463.858 \n  1668.05,460.521 1673.78,457.514 1679.51,453.71 1685.24,450.656 1690.97,446.828 1696.7,443.245 1702.44,440.011 1708.17,436.637 1713.9,433.469 1719.63,429.942 \n  1725.36,426.317 1731.09,422.839 1736.82,419.82 1742.55,416.479 1748.28,413.09 1754.02,409.468 1759.75,405.976 1765.48,402.376 1771.21,398.963 1776.94,395.643 \n  1782.67,392.623 1788.4,388.766 1794.13,385.19 1799.87,381.834 1805.6,378.638 1811.33,374.869 1817.06,371.697 1822.79,368.081 1828.52,364.831 1834.25,361.215 \n  1839.98,357.707 1845.72,354.357 1851.45,350.786 1857.18,347.396 1862.91,344.129 1868.64,340.556 1874.37,337.427 1880.1,333.988 1885.83,330.46 1891.57,326.997 \n  1897.3,323.777 1903.03,320.088 1908.76,316.755 1914.49,313.281 1920.22,309.795 1925.95,306.512 1931.68,302.653 1937.41,299.715 1943.15,296.192 1948.88,292.329 \n  1954.61,289.456 1960.34,285.936 1966.07,282.352 1971.8,278.764 1977.53,275.336 1983.26,272.165 1989,268.661 1994.73,265.028 2000.46,261.739 2006.19,258.144 \n  2011.92,254.886 2017.65,251.395 2023.38,247.876 2029.11,244.245 2034.85,240.799 2040.58,237.33 2046.31,234.286 2052.04,230.546 2057.77,227.115 2063.5,223.733 \n  2069.23,220.5 2074.96,217.064 2080.7,213.514 2086.43,209.97 2092.16,206.435 2097.89,202.835 2103.62,199.654 2109.35,196.277 2115.08,192.932 2120.81,189.438 \n  2126.54,185.889 2132.28,182.509 2138.01,178.866 2143.74,175.396 2149.47,171.913 2155.2,168.726 2160.93,165.225 2166.66,161.779 2172.39,158.171 2178.13,154.802 \n  2183.86,151.369 2189.59,147.947 2195.32,144.206 2201.05,140.777 2206.78,137.215 2212.51,133.684 2218.24,130.731 2223.98,127.395 2229.71,123.662 2235.44,120.191 \n  2241.17,116.709 2246.9,113.083 2252.63,109.766 2258.36,106.583 2264.09,102.718 2269.83,99.4246 2275.56,96.2159 2281.29,92.7704 2287.02,88.9613 2292.75,85.6966 \n  \n  \"/>\n<path clip-path=\"url(#clip840)\" d=\"\nM1945.37 1360.61 L2282.08 1360.61 L2282.08 1256.93 L1945.37 1256.93  Z\n  \" fill=\"#ffffff\" fill-rule=\"evenodd\" fill-opacity=\"1\"/>\n<polyline clip-path=\"url(#clip840)\" style=\"stroke:#000000; stroke-linecap:butt; stroke-linejoin:round; stroke-width:4; stroke-opacity:1; fill:none\" points=\"\n  1945.37,1360.61 2282.08,1360.61 2282.08,1256.93 1945.37,1256.93 1945.37,1360.61 \n  \"/>\n<polyline clip-path=\"url(#clip840)\" style=\"stroke:#0000ff; stroke-linecap:butt; stroke-linejoin:round; stroke-width:5; stroke-opacity:1; fill:none\" points=\"\n  1969.37,1308.77 2113.37,1308.77 \n  \"/>\n<path clip-path=\"url(#clip840)\" d=\"M2157.72 1305.1 Q2159.31 1302.23 2161.54 1300.87 Q2163.76 1299.5 2166.77 1299.5 Q2170.82 1299.5 2173.02 1302.35 Q2175.22 1305.17 2175.22 1310.4 L2175.22 1326.05 L2170.93 1326.05 L2170.93 1310.54 Q2170.93 1306.82 2169.62 1305.01 Q2168.3 1303.2 2165.59 1303.2 Q2162.28 1303.2 2160.36 1305.4 Q2158.43 1307.6 2158.43 1311.4 L2158.43 1326.05 L2154.15 1326.05 L2154.15 1310.54 Q2154.15 1306.79 2152.83 1305.01 Q2151.51 1303.2 2148.76 1303.2 Q2145.49 1303.2 2143.57 1305.43 Q2141.65 1307.63 2141.65 1311.4 L2141.65 1326.05 L2137.37 1326.05 L2137.37 1300.13 L2141.65 1300.13 L2141.65 1304.15 Q2143.11 1301.77 2145.15 1300.63 Q2147.18 1299.5 2149.99 1299.5 Q2152.81 1299.5 2154.78 1300.94 Q2156.77 1302.37 2157.72 1305.1 Z\" fill=\"#000000\" fill-rule=\"evenodd\" fill-opacity=\"1\" /><path clip-path=\"url(#clip840)\" d=\"M2195.49 1313.02 Q2190.33 1313.02 2188.34 1314.2 Q2186.35 1315.38 2186.35 1318.23 Q2186.35 1320.5 2187.83 1321.84 Q2189.34 1323.16 2191.91 1323.16 Q2195.45 1323.16 2197.58 1320.66 Q2199.73 1318.13 2199.73 1313.97 L2199.73 1313.02 L2195.49 1313.02 M2203.99 1311.26 L2203.99 1326.05 L2199.73 1326.05 L2199.73 1322.12 Q2198.27 1324.48 2196.1 1325.61 Q2193.92 1326.72 2190.77 1326.72 Q2186.79 1326.72 2184.43 1324.5 Q2182.09 1322.26 2182.09 1318.51 Q2182.09 1314.13 2185.01 1311.91 Q2187.95 1309.69 2193.76 1309.69 L2199.73 1309.69 L2199.73 1309.27 Q2199.73 1306.33 2197.79 1304.73 Q2195.87 1303.11 2192.37 1303.11 Q2190.15 1303.11 2188.04 1303.64 Q2185.93 1304.18 2183.99 1305.24 L2183.99 1301.31 Q2186.33 1300.4 2188.53 1299.96 Q2190.73 1299.5 2192.81 1299.5 Q2198.43 1299.5 2201.21 1302.42 Q2203.99 1305.33 2203.99 1311.26 Z\" fill=\"#000000\" fill-rule=\"evenodd\" fill-opacity=\"1\" /><path clip-path=\"url(#clip840)\" d=\"M2229.82 1312.79 Q2229.82 1308.16 2227.9 1305.61 Q2226 1303.07 2222.55 1303.07 Q2219.13 1303.07 2217.21 1305.61 Q2215.31 1308.16 2215.31 1312.79 Q2215.31 1317.39 2217.21 1319.94 Q2219.13 1322.49 2222.55 1322.49 Q2226 1322.49 2227.9 1319.94 Q2229.82 1317.39 2229.82 1312.79 M2234.08 1322.83 Q2234.08 1329.45 2231.14 1332.67 Q2228.2 1335.91 2222.14 1335.91 Q2219.89 1335.91 2217.9 1335.57 Q2215.91 1335.24 2214.04 1334.55 L2214.04 1330.4 Q2215.91 1331.42 2217.74 1331.91 Q2219.57 1332.39 2221.47 1332.39 Q2225.66 1332.39 2227.74 1330.19 Q2229.82 1328.02 2229.82 1323.6 L2229.82 1321.49 Q2228.5 1323.78 2226.44 1324.92 Q2224.38 1326.05 2221.51 1326.05 Q2216.74 1326.05 2213.83 1322.42 Q2210.91 1318.78 2210.91 1312.79 Q2210.91 1306.77 2213.83 1303.13 Q2216.74 1299.5 2221.51 1299.5 Q2224.38 1299.5 2226.44 1300.63 Q2228.5 1301.77 2229.82 1304.06 L2229.82 1300.13 L2234.08 1300.13 L2234.08 1322.83 Z\" fill=\"#000000\" fill-rule=\"evenodd\" fill-opacity=\"1\" /></svg>\n",
      "text/html": [
       "<?xml version=\"1.0\" encoding=\"utf-8\"?>\n",
       "<svg xmlns=\"http://www.w3.org/2000/svg\" xmlns:xlink=\"http://www.w3.org/1999/xlink\" width=\"600\" height=\"400\" viewBox=\"0 0 2400 1600\">\n",
       "<defs>\n",
       "  <clipPath id=\"clip890\">\n",
       "    <rect x=\"0\" y=\"0\" width=\"2400\" height=\"1600\"/>\n",
       "  </clipPath>\n",
       "</defs>\n",
       "<path clip-path=\"url(#clip890)\" d=\"\n",
       "M0 1600 L2400 1600 L2400 0 L0 0  Z\n",
       "  \" fill=\"#ffffff\" fill-rule=\"evenodd\" fill-opacity=\"1\"/>\n",
       "<defs>\n",
       "  <clipPath id=\"clip891\">\n",
       "    <rect x=\"480\" y=\"0\" width=\"1681\" height=\"1600\"/>\n",
       "  </clipPath>\n",
       "</defs>\n",
       "<defs>\n",
       "  <clipPath id=\"clip892\">\n",
       "    <rect x=\"232\" y=\"47\" width=\"2121\" height=\"1360\"/>\n",
       "  </clipPath>\n",
       "</defs>\n",
       "<path clip-path=\"url(#clip890)\" d=\"\n",
       "M232.551 1405.9 L2352.76 1405.9 L2352.76 47.2441 L232.551 47.2441  Z\n",
       "  \" fill=\"#ffffff\" fill-rule=\"evenodd\" fill-opacity=\"1\"/>\n",
       "<polyline clip-path=\"url(#clip892)\" style=\"stroke:#000000; stroke-linecap:butt; stroke-linejoin:round; stroke-width:2; stroke-opacity:0.1; fill:none\" points=\"\n",
       "  286.826,1405.9 286.826,47.2441 \n",
       "  \"/>\n",
       "<polyline clip-path=\"url(#clip892)\" style=\"stroke:#000000; stroke-linecap:butt; stroke-linejoin:round; stroke-width:2; stroke-opacity:0.1; fill:none\" points=\"\n",
       "  859.947,1405.9 859.947,47.2441 \n",
       "  \"/>\n",
       "<polyline clip-path=\"url(#clip892)\" style=\"stroke:#000000; stroke-linecap:butt; stroke-linejoin:round; stroke-width:2; stroke-opacity:0.1; fill:none\" points=\"\n",
       "  1433.07,1405.9 1433.07,47.2441 \n",
       "  \"/>\n",
       "<polyline clip-path=\"url(#clip892)\" style=\"stroke:#000000; stroke-linecap:butt; stroke-linejoin:round; stroke-width:2; stroke-opacity:0.1; fill:none\" points=\"\n",
       "  2006.19,1405.9 2006.19,47.2441 \n",
       "  \"/>\n",
       "<polyline clip-path=\"url(#clip890)\" style=\"stroke:#000000; stroke-linecap:butt; stroke-linejoin:round; stroke-width:4; stroke-opacity:1; fill:none\" points=\"\n",
       "  232.551,1405.9 2352.76,1405.9 \n",
       "  \"/>\n",
       "<polyline clip-path=\"url(#clip890)\" style=\"stroke:#000000; stroke-linecap:butt; stroke-linejoin:round; stroke-width:4; stroke-opacity:1; fill:none\" points=\"\n",
       "  286.826,1405.9 286.826,1387 \n",
       "  \"/>\n",
       "<polyline clip-path=\"url(#clip890)\" style=\"stroke:#000000; stroke-linecap:butt; stroke-linejoin:round; stroke-width:4; stroke-opacity:1; fill:none\" points=\"\n",
       "  859.947,1405.9 859.947,1387 \n",
       "  \"/>\n",
       "<polyline clip-path=\"url(#clip890)\" style=\"stroke:#000000; stroke-linecap:butt; stroke-linejoin:round; stroke-width:4; stroke-opacity:1; fill:none\" points=\"\n",
       "  1433.07,1405.9 1433.07,1387 \n",
       "  \"/>\n",
       "<polyline clip-path=\"url(#clip890)\" style=\"stroke:#000000; stroke-linecap:butt; stroke-linejoin:round; stroke-width:4; stroke-opacity:1; fill:none\" points=\"\n",
       "  2006.19,1405.9 2006.19,1387 \n",
       "  \"/>\n",
       "<path clip-path=\"url(#clip890)\" d=\"M286.826 1442.68 Q281.409 1442.68 278.666 1448.03 Q275.958 1453.34 275.958 1464.03 Q275.958 1474.69 278.666 1480.04 Q281.409 1485.35 286.826 1485.35 Q292.277 1485.35 294.986 1480.04 Q297.729 1474.69 297.729 1464.03 Q297.729 1453.34 294.986 1448.03 Q292.277 1442.68 286.826 1442.68 M286.826 1437.12 Q295.541 1437.12 300.124 1444.03 Q304.743 1450.91 304.743 1464.03 Q304.743 1477.12 300.124 1484.03 Q295.541 1490.91 286.826 1490.91 Q278.111 1490.91 273.493 1484.03 Q268.909 1477.12 268.909 1464.03 Q268.909 1450.91 273.493 1444.03 Q278.111 1437.12 286.826 1437.12 Z\" fill=\"#000000\" fill-rule=\"evenodd\" fill-opacity=\"1\" /><path clip-path=\"url(#clip890)\" d=\"M828.107 1484 L852.586 1484 L852.586 1489.9 L819.67 1489.9 L819.67 1484 Q823.663 1479.87 830.538 1472.92 Q837.447 1465.94 839.218 1463.93 Q842.586 1460.14 843.906 1457.54 Q845.26 1454.9 845.26 1452.37 Q845.26 1448.23 842.343 1445.63 Q839.461 1443.03 834.808 1443.03 Q831.51 1443.03 827.829 1444.17 Q824.183 1445.32 820.017 1447.64 L820.017 1440.56 Q824.253 1438.86 827.933 1437.99 Q831.614 1437.12 834.67 1437.12 Q842.725 1437.12 847.517 1441.15 Q852.308 1445.18 852.308 1451.91 Q852.308 1455.11 851.093 1457.99 Q849.912 1460.84 846.753 1464.73 Q845.885 1465.73 841.232 1470.56 Q836.579 1475.35 828.107 1484 Z\" fill=\"#000000\" fill-rule=\"evenodd\" fill-opacity=\"1\" /><path clip-path=\"url(#clip890)\" d=\"M882.308 1442.68 Q876.892 1442.68 874.148 1448.03 Q871.44 1453.34 871.44 1464.03 Q871.44 1474.69 874.148 1480.04 Q876.892 1485.35 882.308 1485.35 Q887.759 1485.35 890.468 1480.04 Q893.211 1474.69 893.211 1464.03 Q893.211 1453.34 890.468 1448.03 Q887.759 1442.68 882.308 1442.68 M882.308 1437.12 Q891.023 1437.12 895.607 1444.03 Q900.225 1450.91 900.225 1464.03 Q900.225 1477.12 895.607 1484.03 Q891.023 1490.91 882.308 1490.91 Q873.593 1490.91 868.975 1484.03 Q864.392 1477.12 864.392 1464.03 Q864.392 1450.91 868.975 1444.03 Q873.593 1437.12 882.308 1437.12 Z\" fill=\"#000000\" fill-rule=\"evenodd\" fill-opacity=\"1\" /><path clip-path=\"url(#clip890)\" d=\"M1415.33 1444.17 L1397.62 1471.84 L1415.33 1471.84 L1415.33 1444.17 M1413.49 1438.06 L1422.3 1438.06 L1422.3 1471.84 L1429.7 1471.84 L1429.7 1477.68 L1422.3 1477.68 L1422.3 1489.9 L1415.33 1489.9 L1415.33 1477.68 L1391.92 1477.68 L1391.92 1470.91 L1413.49 1438.06 Z\" fill=\"#000000\" fill-rule=\"evenodd\" fill-opacity=\"1\" /><path clip-path=\"url(#clip890)\" d=\"M1456.3 1442.68 Q1450.88 1442.68 1448.14 1448.03 Q1445.43 1453.34 1445.43 1464.03 Q1445.43 1474.69 1448.14 1480.04 Q1450.88 1485.35 1456.3 1485.35 Q1461.75 1485.35 1464.46 1480.04 Q1467.2 1474.69 1467.2 1464.03 Q1467.2 1453.34 1464.46 1448.03 Q1461.75 1442.68 1456.3 1442.68 M1456.3 1437.12 Q1465.01 1437.12 1469.6 1444.03 Q1474.21 1450.91 1474.21 1464.03 Q1474.21 1477.12 1469.6 1484.03 Q1465.01 1490.91 1456.3 1490.91 Q1447.58 1490.91 1442.96 1484.03 Q1438.38 1477.12 1438.38 1464.03 Q1438.38 1450.91 1442.96 1444.03 Q1447.58 1437.12 1456.3 1437.12 Z\" fill=\"#000000\" fill-rule=\"evenodd\" fill-opacity=\"1\" /><path clip-path=\"url(#clip890)\" d=\"M1984.3 1461.18 Q1979.58 1461.18 1976.8 1464.41 Q1974.05 1467.64 1974.05 1473.27 Q1974.05 1478.86 1976.8 1482.12 Q1979.58 1485.35 1984.3 1485.35 Q1989.02 1485.35 1991.76 1482.12 Q1994.54 1478.86 1994.54 1473.27 Q1994.54 1467.64 1991.76 1464.41 Q1989.02 1461.18 1984.3 1461.18 M1998.22 1439.21 L1998.22 1445.59 Q1995.58 1444.34 1992.87 1443.68 Q1990.2 1443.03 1987.56 1443.03 Q1980.62 1443.03 1976.94 1447.71 Q1973.29 1452.4 1972.77 1461.88 Q1974.82 1458.86 1977.91 1457.26 Q1981 1455.63 1984.71 1455.63 Q1992.53 1455.63 1997.04 1460.39 Q2001.59 1465.11 2001.59 1473.27 Q2001.59 1481.25 1996.87 1486.08 Q1992.14 1490.91 1984.3 1490.91 Q1975.3 1490.91 1970.55 1484.03 Q1965.79 1477.12 1965.79 1464.03 Q1965.79 1451.74 1971.62 1444.45 Q1977.46 1437.12 1987.28 1437.12 Q1989.92 1437.12 1992.6 1437.64 Q1995.3 1438.16 1998.22 1439.21 Z\" fill=\"#000000\" fill-rule=\"evenodd\" fill-opacity=\"1\" /><path clip-path=\"url(#clip890)\" d=\"M2028.67 1442.68 Q2023.26 1442.68 2020.51 1448.03 Q2017.8 1453.34 2017.8 1464.03 Q2017.8 1474.69 2020.51 1480.04 Q2023.26 1485.35 2028.67 1485.35 Q2034.12 1485.35 2036.83 1480.04 Q2039.57 1474.69 2039.57 1464.03 Q2039.57 1453.34 2036.83 1448.03 Q2034.12 1442.68 2028.67 1442.68 M2028.67 1437.12 Q2037.39 1437.12 2041.97 1444.03 Q2046.59 1450.91 2046.59 1464.03 Q2046.59 1477.12 2041.97 1484.03 Q2037.39 1490.91 2028.67 1490.91 Q2019.96 1490.91 2015.34 1484.03 Q2010.76 1477.12 2010.76 1464.03 Q2010.76 1450.91 2015.34 1444.03 Q2019.96 1437.12 2028.67 1437.12 Z\" fill=\"#000000\" fill-rule=\"evenodd\" fill-opacity=\"1\" /><path clip-path=\"url(#clip890)\" d=\"M1257.08 1537.21 Q1257.08 1537.82 1256.95 1538.34 L1255.15 1549.8 Q1255.05 1550.67 1254.86 1551 Q1254.69 1551.32 1254.18 1551.32 Q1253.37 1551.32 1253.37 1550.48 Q1253.37 1550 1253.57 1549.22 Q1254.11 1545.58 1254.11 1543.94 Q1254.11 1542.85 1253.89 1542.04 Q1253.7 1541.2 1253.37 1540.62 Q1253.08 1540.05 1252.41 1539.66 Q1251.73 1539.27 1251.09 1539.05 Q1250.44 1538.82 1249.28 1538.72 Q1248.12 1538.6 1247.13 1538.56 Q1246.13 1538.53 1244.49 1538.53 Q1240.91 1538.53 1240.33 1538.66 Q1239.72 1538.82 1239.4 1539.3 Q1239.11 1539.76 1238.78 1541.11 L1230.02 1576.12 L1229.77 1577.5 Q1229.77 1578.27 1230.25 1578.53 Q1230.73 1578.79 1232.21 1578.95 Q1234.34 1579.11 1236.43 1579.11 Q1236.5 1579.11 1236.63 1579.11 Q1237.34 1579.11 1237.63 1579.14 Q1237.92 1579.14 1238.21 1579.21 Q1238.5 1579.27 1238.56 1579.43 Q1238.66 1579.56 1238.66 1579.82 Q1238.66 1580.43 1238.4 1580.75 Q1238.14 1581.04 1237.88 1581.11 Q1237.66 1581.14 1237.21 1581.14 Q1236.31 1581.14 1234.37 1581.08 Q1232.44 1581.01 1231.47 1581.01 L1226 1580.95 L1220.4 1581.01 Q1219.53 1581.01 1217.69 1581.08 Q1215.85 1581.14 1214.98 1581.14 Q1213.86 1581.14 1213.86 1580.33 Q1213.86 1579.43 1214.28 1579.27 Q1214.73 1579.11 1216.63 1579.11 Q1219.3 1579.11 1220.75 1578.98 Q1222.2 1578.85 1222.97 1578.4 Q1223.78 1577.95 1224 1577.5 Q1224.23 1577.02 1224.49 1575.92 L1233.34 1540.72 Q1233.6 1539.95 1233.6 1539.34 Q1233.6 1539.01 1233.5 1538.89 Q1233.44 1538.76 1233.02 1538.66 Q1232.6 1538.53 1231.73 1538.53 L1229.16 1538.53 Q1226.51 1538.53 1224.87 1538.66 Q1223.26 1538.76 1221.72 1539.24 Q1220.2 1539.72 1219.3 1540.4 Q1218.43 1541.08 1217.46 1542.46 Q1216.5 1543.85 1215.79 1545.52 Q1215.11 1547.19 1214.15 1549.93 Q1213.83 1550.83 1213.63 1551.09 Q1213.47 1551.32 1213.02 1551.32 Q1212.7 1551.32 1212.44 1551.12 Q1212.22 1550.9 1212.22 1550.61 Q1212.54 1549.55 1212.6 1549.42 L1216.56 1537.79 Q1216.88 1536.86 1217.17 1536.7 Q1217.5 1536.5 1218.69 1536.5 L1255.27 1536.5 Q1255.85 1536.5 1256.05 1536.5 Q1256.24 1536.5 1256.56 1536.57 Q1256.88 1536.63 1256.98 1536.79 Q1257.08 1536.95 1257.08 1537.21 Z\" fill=\"#000000\" fill-rule=\"evenodd\" fill-opacity=\"1\" /><path clip-path=\"url(#clip890)\" d=\"M1264.09 1564.65 Q1264.09 1553.51 1268.25 1544.52 Q1270.02 1540.75 1272.5 1537.6 Q1274.98 1534.44 1276.62 1533.06 Q1278.26 1531.67 1278.72 1531.67 Q1279.36 1531.67 1279.39 1532.32 Q1279.39 1532.64 1278.52 1533.44 Q1267.89 1544.26 1267.93 1564.65 Q1267.93 1585.1 1278.26 1595.5 Q1279.39 1596.63 1279.39 1596.99 Q1279.39 1597.63 1278.72 1597.63 Q1278.26 1597.63 1276.69 1596.31 Q1275.11 1594.99 1272.66 1591.96 Q1270.21 1588.93 1268.44 1585.23 Q1264.09 1576.24 1264.09 1564.65 Z\" fill=\"#000000\" fill-rule=\"evenodd\" fill-opacity=\"1\" /><path clip-path=\"url(#clip890)\" d=\"M1341.6 1536.82 Q1341.6 1537.24 1341.5 1537.53 Q1341.4 1537.79 1341.18 1537.92 Q1340.95 1538.05 1340.82 1538.08 Q1340.69 1538.11 1340.4 1538.14 Q1339.02 1538.27 1338.05 1538.5 Q1337.12 1538.72 1334.8 1539.88 Q1332.51 1541.04 1329.65 1543.14 L1318.12 1552.06 L1316.19 1553.57 Q1316.19 1553.67 1316.25 1553.86 Q1316.31 1554.02 1316.38 1554.25 Q1316.48 1554.44 1316.51 1554.51 L1325.88 1576.12 Q1326.62 1577.85 1327.52 1578.47 Q1328.42 1579.08 1330.45 1579.11 Q1330.77 1579.11 1330.9 1579.14 Q1331.06 1579.14 1331.29 1579.21 Q1331.55 1579.24 1331.64 1579.4 Q1331.77 1579.56 1331.77 1579.82 Q1331.77 1581.14 1330.58 1581.14 Q1329.84 1581.14 1327.33 1581.04 Q1324.82 1580.95 1324.11 1580.95 Q1322.79 1580.95 1320.08 1581.04 Q1317.38 1581.14 1316.06 1581.14 Q1315.12 1581.14 1315.12 1580.4 Q1315.12 1579.79 1315.35 1579.5 Q1315.61 1579.18 1315.83 1579.14 Q1316.06 1579.11 1316.57 1579.11 Q1316.96 1579.11 1317.38 1579.08 Q1317.83 1579.01 1318.47 1578.85 Q1319.15 1578.66 1319.57 1578.21 Q1320.02 1577.73 1320.02 1577.05 Q1320.02 1576.5 1319.21 1574.73 L1311.58 1556.99 L1301.76 1564.65 L1299.12 1575.02 Q1299.05 1575.41 1298.89 1576.08 Q1298.73 1576.76 1298.6 1577.24 Q1298.5 1577.73 1298.5 1577.92 Q1298.5 1578.34 1298.76 1578.6 Q1299.05 1578.85 1299.76 1578.98 Q1300.47 1579.08 1301.02 1579.11 Q1301.6 1579.11 1302.79 1579.11 Q1304.27 1579.11 1304.53 1579.37 Q1304.66 1579.53 1304.66 1579.82 Q1304.66 1580.27 1304.53 1580.59 Q1304.4 1580.88 1304.14 1580.98 Q1303.92 1581.08 1303.75 1581.11 Q1303.59 1581.14 1303.34 1581.14 Q1302.66 1581.14 1301.21 1581.08 Q1299.79 1581.01 1299.05 1581.01 L1294.83 1580.95 L1286.46 1581.14 Q1285.46 1581.14 1285.46 1580.33 Q1285.46 1579.72 1285.72 1579.47 Q1285.98 1579.18 1286.27 1579.14 Q1286.56 1579.11 1287.3 1579.11 Q1288.91 1579.11 1289.87 1579.01 Q1290.84 1578.92 1291.45 1578.79 Q1292.1 1578.63 1292.42 1578.18 Q1292.77 1577.73 1292.93 1577.34 Q1293.09 1576.92 1293.32 1575.99 L1302.14 1540.56 Q1302.4 1539.5 1302.4 1539.34 Q1302.4 1538.79 1302.08 1538.6 Q1301.79 1538.37 1300.95 1538.27 Q1299.34 1538.14 1298.12 1538.14 Q1297.31 1538.14 1296.99 1538.11 Q1296.7 1538.08 1296.44 1537.92 Q1296.22 1537.73 1296.22 1537.34 Q1296.22 1536.08 1297.54 1536.08 L1306.04 1536.28 L1314.48 1536.08 Q1315.41 1536.08 1315.41 1536.82 Q1315.41 1537.76 1314.96 1537.95 Q1314.54 1538.14 1313.16 1538.14 Q1310.74 1538.14 1309.65 1538.47 Q1308.58 1538.76 1308.26 1539.27 Q1307.97 1539.76 1307.62 1541.17 L1302.34 1562.33 L1328.07 1542.56 Q1330.45 1540.56 1330.45 1539.53 Q1330.45 1538.85 1329.97 1538.56 Q1329.52 1538.24 1328.39 1538.14 Q1327.59 1538.02 1327.59 1537.4 Q1327.59 1536.79 1327.81 1536.5 Q1328.07 1536.18 1328.26 1536.15 Q1328.49 1536.08 1328.84 1536.08 Q1330.03 1536.08 1332.51 1536.18 Q1334.99 1536.28 1336.19 1536.28 Q1336.99 1536.28 1338.57 1536.18 Q1340.15 1536.08 1340.86 1536.08 Q1341.21 1536.08 1341.4 1536.34 Q1341.6 1536.57 1341.6 1536.82 Z\" fill=\"#000000\" fill-rule=\"evenodd\" fill-opacity=\"1\" /><path clip-path=\"url(#clip890)\" d=\"M1347.76 1596.99 Q1347.76 1596.66 1348.6 1595.86 Q1359.23 1585.04 1359.23 1564.65 Q1359.23 1544.2 1349.02 1533.86 Q1347.76 1532.67 1347.76 1532.32 Q1347.76 1531.67 1348.41 1531.67 Q1348.86 1531.67 1350.44 1532.99 Q1352.05 1534.31 1354.46 1537.34 Q1356.91 1540.37 1358.71 1544.07 Q1363.06 1553.06 1363.06 1564.65 Q1363.06 1575.79 1358.91 1584.78 Q1357.14 1588.55 1354.66 1591.7 Q1352.18 1594.86 1350.53 1596.24 Q1348.89 1597.63 1348.41 1597.63 Q1347.76 1597.63 1347.76 1596.99 Z\" fill=\"#000000\" fill-rule=\"evenodd\" fill-opacity=\"1\" /><polyline clip-path=\"url(#clip892)\" style=\"stroke:#000000; stroke-linecap:butt; stroke-linejoin:round; stroke-width:2; stroke-opacity:0.1; fill:none\" points=\"\n",
       "  232.551,1374.06 2352.76,1374.06 \n",
       "  \"/>\n",
       "<polyline clip-path=\"url(#clip892)\" style=\"stroke:#000000; stroke-linecap:butt; stroke-linejoin:round; stroke-width:2; stroke-opacity:0.1; fill:none\" points=\"\n",
       "  232.551,1091.88 2352.76,1091.88 \n",
       "  \"/>\n",
       "<polyline clip-path=\"url(#clip892)\" style=\"stroke:#000000; stroke-linecap:butt; stroke-linejoin:round; stroke-width:2; stroke-opacity:0.1; fill:none\" points=\"\n",
       "  232.551,809.691 2352.76,809.691 \n",
       "  \"/>\n",
       "<polyline clip-path=\"url(#clip892)\" style=\"stroke:#000000; stroke-linecap:butt; stroke-linejoin:round; stroke-width:2; stroke-opacity:0.1; fill:none\" points=\"\n",
       "  232.551,527.507 2352.76,527.507 \n",
       "  \"/>\n",
       "<polyline clip-path=\"url(#clip892)\" style=\"stroke:#000000; stroke-linecap:butt; stroke-linejoin:round; stroke-width:2; stroke-opacity:0.1; fill:none\" points=\"\n",
       "  232.551,245.323 2352.76,245.323 \n",
       "  \"/>\n",
       "<polyline clip-path=\"url(#clip890)\" style=\"stroke:#000000; stroke-linecap:butt; stroke-linejoin:round; stroke-width:4; stroke-opacity:1; fill:none\" points=\"\n",
       "  232.551,1405.9 232.551,47.2441 \n",
       "  \"/>\n",
       "<polyline clip-path=\"url(#clip890)\" style=\"stroke:#000000; stroke-linecap:butt; stroke-linejoin:round; stroke-width:4; stroke-opacity:1; fill:none\" points=\"\n",
       "  232.551,1374.06 251.449,1374.06 \n",
       "  \"/>\n",
       "<polyline clip-path=\"url(#clip890)\" style=\"stroke:#000000; stroke-linecap:butt; stroke-linejoin:round; stroke-width:4; stroke-opacity:1; fill:none\" points=\"\n",
       "  232.551,1091.88 251.449,1091.88 \n",
       "  \"/>\n",
       "<polyline clip-path=\"url(#clip890)\" style=\"stroke:#000000; stroke-linecap:butt; stroke-linejoin:round; stroke-width:4; stroke-opacity:1; fill:none\" points=\"\n",
       "  232.551,809.691 251.449,809.691 \n",
       "  \"/>\n",
       "<polyline clip-path=\"url(#clip890)\" style=\"stroke:#000000; stroke-linecap:butt; stroke-linejoin:round; stroke-width:4; stroke-opacity:1; fill:none\" points=\"\n",
       "  232.551,527.507 251.449,527.507 \n",
       "  \"/>\n",
       "<polyline clip-path=\"url(#clip890)\" style=\"stroke:#000000; stroke-linecap:butt; stroke-linejoin:round; stroke-width:4; stroke-opacity:1; fill:none\" points=\"\n",
       "  232.551,245.323 251.449,245.323 \n",
       "  \"/>\n",
       "<path clip-path=\"url(#clip890)\" d=\"M178.635 1352.76 Q173.218 1352.76 170.475 1358.11 Q167.767 1363.42 167.767 1374.11 Q167.767 1384.77 170.475 1390.12 Q173.218 1395.43 178.635 1395.43 Q184.086 1395.43 186.794 1390.12 Q189.538 1384.77 189.538 1374.11 Q189.538 1363.42 186.794 1358.11 Q184.086 1352.76 178.635 1352.76 M178.635 1347.2 Q187.35 1347.2 191.933 1354.11 Q196.551 1360.99 196.551 1374.11 Q196.551 1387.2 191.933 1394.11 Q187.35 1400.99 178.635 1400.99 Q169.92 1400.99 165.302 1394.11 Q160.718 1387.2 160.718 1374.11 Q160.718 1360.99 165.302 1354.11 Q169.92 1347.2 178.635 1347.2 Z\" fill=\"#000000\" fill-rule=\"evenodd\" fill-opacity=\"1\" /><path clip-path=\"url(#clip890)\" d=\"M124.434 1111.89 L148.913 1111.89 L148.913 1117.8 L115.996 1117.8 L115.996 1111.89 Q119.989 1107.76 126.864 1100.82 Q133.774 1093.84 135.545 1091.82 Q138.913 1088.04 140.232 1085.43 Q141.586 1082.8 141.586 1080.26 Q141.586 1076.13 138.67 1073.52 Q135.788 1070.92 131.135 1070.92 Q127.836 1070.92 124.156 1072.07 Q120.51 1073.21 116.343 1075.54 L116.343 1068.46 Q120.58 1066.75 124.26 1065.89 Q127.941 1065.02 130.996 1065.02 Q139.052 1065.02 143.843 1069.05 Q148.635 1073.07 148.635 1079.81 Q148.635 1083 147.42 1085.89 Q146.239 1088.73 143.079 1092.62 Q142.211 1093.63 137.559 1098.46 Q132.906 1103.25 124.434 1111.89 Z\" fill=\"#000000\" fill-rule=\"evenodd\" fill-opacity=\"1\" /><path clip-path=\"url(#clip890)\" d=\"M178.635 1070.57 Q173.218 1070.57 170.475 1075.92 Q167.767 1081.23 167.767 1091.93 Q167.767 1102.59 170.475 1107.93 Q173.218 1113.25 178.635 1113.25 Q184.086 1113.25 186.794 1107.93 Q189.538 1102.59 189.538 1091.93 Q189.538 1081.23 186.794 1075.92 Q184.086 1070.57 178.635 1070.57 M178.635 1065.02 Q187.35 1065.02 191.933 1071.93 Q196.551 1078.8 196.551 1091.93 Q196.551 1105.02 191.933 1111.93 Q187.35 1118.8 178.635 1118.8 Q169.92 1118.8 165.302 1111.93 Q160.718 1105.02 160.718 1091.93 Q160.718 1078.8 165.302 1071.93 Q169.92 1065.02 178.635 1065.02 Z\" fill=\"#000000\" fill-rule=\"evenodd\" fill-opacity=\"1\" /><path clip-path=\"url(#clip890)\" d=\"M137.663 789.882 L119.955 817.556 L137.663 817.556 L137.663 789.882 M135.823 783.771 L144.642 783.771 L144.642 817.556 L152.038 817.556 L152.038 823.389 L144.642 823.389 L144.642 835.611 L137.663 835.611 L137.663 823.389 L114.26 823.389 L114.26 816.618 L135.823 783.771 Z\" fill=\"#000000\" fill-rule=\"evenodd\" fill-opacity=\"1\" /><path clip-path=\"url(#clip890)\" d=\"M178.635 788.389 Q173.218 788.389 170.475 793.737 Q167.767 799.049 167.767 809.743 Q167.767 820.403 170.475 825.75 Q173.218 831.063 178.635 831.063 Q184.086 831.063 186.794 825.75 Q189.538 820.403 189.538 809.743 Q189.538 799.049 186.794 793.737 Q184.086 788.389 178.635 788.389 M178.635 782.834 Q187.35 782.834 191.933 789.743 Q196.551 796.618 196.551 809.743 Q196.551 822.834 191.933 829.743 Q187.35 836.618 178.635 836.618 Q169.92 836.618 165.302 829.743 Q160.718 822.834 160.718 809.743 Q160.718 796.618 165.302 789.743 Q169.92 782.834 178.635 782.834 Z\" fill=\"#000000\" fill-rule=\"evenodd\" fill-opacity=\"1\" /><path clip-path=\"url(#clip890)\" d=\"M134.26 524.712 Q129.538 524.712 126.76 527.941 Q124.017 531.17 124.017 536.795 Q124.017 542.385 126.76 545.649 Q129.538 548.878 134.26 548.878 Q138.982 548.878 141.725 545.649 Q144.503 542.385 144.503 536.795 Q144.503 531.17 141.725 527.941 Q138.982 524.712 134.26 524.712 M148.184 502.733 L148.184 509.122 Q145.545 507.872 142.836 507.212 Q140.163 506.552 137.524 506.552 Q130.58 506.552 126.899 511.24 Q123.253 515.927 122.732 525.406 Q124.781 522.386 127.871 520.788 Q130.961 519.156 134.677 519.156 Q142.489 519.156 147.003 523.913 Q151.552 528.636 151.552 536.795 Q151.552 544.781 146.829 549.608 Q142.107 554.434 134.26 554.434 Q125.267 554.434 120.51 547.559 Q115.753 540.649 115.753 527.559 Q115.753 515.268 121.587 507.976 Q127.42 500.65 137.246 500.65 Q139.885 500.65 142.559 501.17 Q145.267 501.691 148.184 502.733 Z\" fill=\"#000000\" fill-rule=\"evenodd\" fill-opacity=\"1\" /><path clip-path=\"url(#clip890)\" d=\"M178.635 506.205 Q173.218 506.205 170.475 511.552 Q167.767 516.865 167.767 527.559 Q167.767 538.219 170.475 543.566 Q173.218 548.878 178.635 548.878 Q184.086 548.878 186.794 543.566 Q189.538 538.219 189.538 527.559 Q189.538 516.865 186.794 511.552 Q184.086 506.205 178.635 506.205 M178.635 500.65 Q187.35 500.65 191.933 507.559 Q196.551 514.434 196.551 527.559 Q196.551 540.649 191.933 547.559 Q187.35 554.434 178.635 554.434 Q169.92 554.434 165.302 547.559 Q160.718 540.649 160.718 527.559 Q160.718 514.434 165.302 507.559 Q169.92 500.65 178.635 500.65 Z\" fill=\"#000000\" fill-rule=\"evenodd\" fill-opacity=\"1\" /><path clip-path=\"url(#clip890)\" d=\"M133.392 246.625 Q128.392 246.625 125.51 249.298 Q122.663 251.972 122.663 256.66 Q122.663 261.347 125.51 264.021 Q128.392 266.694 133.392 266.694 Q138.392 266.694 141.274 264.021 Q144.156 261.312 144.156 256.66 Q144.156 251.972 141.274 249.298 Q138.427 246.625 133.392 246.625 M126.378 243.639 Q121.864 242.528 119.33 239.437 Q116.83 236.347 116.83 231.903 Q116.83 225.687 121.239 222.076 Q125.684 218.465 133.392 218.465 Q141.135 218.465 145.545 222.076 Q149.954 225.687 149.954 231.903 Q149.954 236.347 147.42 239.437 Q144.92 242.528 140.441 243.639 Q145.51 244.819 148.322 248.257 Q151.17 251.694 151.17 256.66 Q151.17 264.194 146.552 268.222 Q141.968 272.25 133.392 272.25 Q124.816 272.25 120.198 268.222 Q115.614 264.194 115.614 256.66 Q115.614 251.694 118.462 248.257 Q121.309 244.819 126.378 243.639 M123.809 232.562 Q123.809 236.59 126.309 238.847 Q128.843 241.104 133.392 241.104 Q137.906 241.104 140.441 238.847 Q143.01 236.59 143.01 232.562 Q143.01 228.535 140.441 226.278 Q137.906 224.021 133.392 224.021 Q128.843 224.021 126.309 226.278 Q123.809 228.535 123.809 232.562 Z\" fill=\"#000000\" fill-rule=\"evenodd\" fill-opacity=\"1\" /><path clip-path=\"url(#clip890)\" d=\"M178.635 224.021 Q173.218 224.021 170.475 229.368 Q167.767 234.68 167.767 245.375 Q167.767 256.035 170.475 261.382 Q173.218 266.694 178.635 266.694 Q184.086 266.694 186.794 261.382 Q189.538 256.035 189.538 245.375 Q189.538 234.68 186.794 229.368 Q184.086 224.021 178.635 224.021 M178.635 218.465 Q187.35 218.465 191.933 225.375 Q196.551 232.25 196.551 245.375 Q196.551 258.465 191.933 265.375 Q187.35 272.25 178.635 272.25 Q169.92 272.25 165.302 265.375 Q160.718 258.465 160.718 245.375 Q160.718 232.25 165.302 225.375 Q169.92 218.465 178.635 218.465 Z\" fill=\"#000000\" fill-rule=\"evenodd\" fill-opacity=\"1\" /><path clip-path=\"url(#clip890)\" d=\"M30.8114 938.683 L28.7503 938.683 Q28.7503 930.76 24.5313 926.67 Q24.5313 925.543 24.7889 925.349 Q25.0466 925.156 26.2382 925.156 L63.2427 925.156 Q65.2073 925.156 65.8192 924.19 Q66.4311 923.224 66.4311 919.005 L66.4311 916.912 L68.4601 916.912 Q68.2669 919.23 68.2669 927.604 Q68.2669 935.977 68.4601 938.264 L66.4311 938.264 L66.4311 936.171 Q66.4311 932.016 65.8514 931.018 Q65.2395 930.019 63.2427 930.019 L29.0723 930.019 Q30.8114 933.465 30.8114 938.683 Z\" fill=\"#000000\" fill-rule=\"evenodd\" fill-opacity=\"1\" /><path clip-path=\"url(#clip890)\" d=\"M84.0155 906.019 Q83.6935 906.019 82.9849 905.761 L20.7632 882.476 Q20.6988 882.476 20.3445 882.315 Q19.9903 882.154 19.7648 882.057 Q19.5072 881.961 19.314 881.768 Q19.1207 881.542 19.1207 881.285 Q19.1207 880.64 19.9259 880.64 Q19.9903 880.64 20.7632 880.834 L83.0494 904.183 Q84.1766 904.569 84.4986 904.827 Q84.8207 905.052 84.8207 905.439 Q84.8207 906.019 84.0155 906.019 Z\" fill=\"#000000\" fill-rule=\"evenodd\" fill-opacity=\"1\" /><path clip-path=\"url(#clip890)\" d=\"M40.28 836.414 Q40.5054 836.189 40.8275 836.189 Q41.1495 836.189 41.8903 836.93 L59.4747 852.614 Q80.5373 846.624 80.5373 843.339 Q80.5373 842.34 79.7644 841.31 Q79.0236 840.247 77.8964 839.828 Q77.3489 839.667 77.1557 839.506 Q76.9624 839.345 76.9624 838.894 Q76.9624 838.121 77.7032 838.121 Q78.0896 838.121 78.7338 838.476 Q79.4101 838.83 80.1508 839.474 Q80.9238 840.118 81.4391 841.245 Q81.9866 842.373 81.9866 843.725 Q81.9866 845.4 81.6001 846.753 Q81.2136 848.105 80.7305 848.878 Q80.2474 849.651 79.3779 850.36 Q78.5405 851.036 78.0252 851.294 Q77.5421 851.519 76.7048 851.905 Q74.9013 852.678 72.9045 853.387 Q70.9077 854.095 69.4585 854.546 Q68.0092 854.997 63.5648 856.382 L80.5373 871.487 Q81.2458 872.195 81.2458 872.549 Q81.2458 872.839 80.9882 873.097 Q80.7627 873.355 80.4729 873.355 Q80.1508 873.355 79.4101 872.614 L62.4698 857.445 Q62.2444 857.219 62.0511 857.091 Q61.8579 856.962 61.7935 856.962 L61.7291 856.93 Q61.568 856.93 59.5069 857.509 Q57.4457 858.089 54.2573 859.152 Q51.0367 860.182 48.6857 861.149 Q47.1076 861.76 46.1414 862.179 Q45.1753 862.598 43.726 863.339 Q42.2767 864.047 41.536 864.788 Q40.7631 865.529 40.7631 866.205 Q40.7631 866.43 40.8597 866.785 Q40.9563 867.139 41.2139 867.719 Q41.4394 868.266 42.0835 868.814 Q42.6954 869.361 43.5972 869.715 Q44.3057 870.005 44.3057 870.553 Q44.3057 870.907 44.1447 871.132 Q43.9836 871.326 43.8226 871.326 L43.6616 871.358 Q43.0819 871.358 42.1157 870.81 Q41.1495 870.263 40.2478 868.91 Q39.3138 867.558 39.3138 865.818 Q39.3138 864.176 39.7003 862.823 Q40.0867 861.471 40.5376 860.73 Q40.9885 859.957 41.8258 859.281 Q42.631 858.604 43.0175 858.411 Q43.3717 858.186 44.1125 857.831 Q46.6245 856.736 48.7823 856.028 Q50.9079 855.287 57.6389 853.162 L40.8275 838.057 Q40.0223 837.381 40.0223 836.994 Q40.0223 836.64 40.28 836.414 Z\" fill=\"#000000\" fill-rule=\"evenodd\" fill-opacity=\"1\" /><path clip-path=\"url(#clip890)\" d=\"M51.9707 827.709 Q40.8275 827.709 31.842 823.554 Q28.0739 821.783 24.9178 819.303 Q21.7616 816.823 20.3767 815.181 Q18.9919 813.538 18.9919 813.087 Q18.9919 812.443 19.636 812.411 Q19.9581 812.411 20.7632 813.28 Q31.5844 823.908 51.9707 823.876 Q72.4214 823.876 82.8239 813.538 Q83.9511 812.411 84.3054 812.411 Q84.9495 812.411 84.9495 813.087 Q84.9495 813.538 83.6291 815.116 Q82.3086 816.694 79.2813 819.142 Q76.2539 821.59 72.5502 823.361 Q63.5648 827.709 51.9707 827.709 Z\" fill=\"#000000\" fill-rule=\"evenodd\" fill-opacity=\"1\" /><path clip-path=\"url(#clip890)\" d=\"M59.0238 753.356 Q59.2814 753.356 60.2798 753.646 Q61.2782 753.936 62.8241 754.644 Q64.37 755.32 65.787 756.287 Q67.1719 757.221 68.2024 758.766 Q69.2008 760.28 69.2008 762.019 Q69.2008 764.338 67.6549 765.884 Q66.1091 767.43 63.7902 767.43 Q62.5342 767.43 60.151 766.56 Q49.2654 762.47 45.3685 762.47 Q40.7631 762.47 40.7631 766.045 Q40.7631 768.074 41.6004 769.91 Q42.4378 771.745 43.5972 772.937 Q44.7566 774.129 46.077 775.063 Q47.3975 775.997 48.267 776.415 Q49.1366 776.802 49.523 776.898 L65.4327 780.86 Q66.7854 781.182 67.4295 781.407 Q68.0736 781.633 68.6211 782.245 Q69.2008 782.856 69.2008 783.823 Q69.2008 784.628 68.7177 785.207 Q68.2347 785.755 67.3973 785.755 Q67.2685 785.755 66.5922 785.594 Q65.9158 785.433 64.9819 785.207 Q64.0479 784.982 63.5004 784.885 Q59.1204 783.726 58.5085 783.565 L50.8435 781.729 Q47.0432 780.731 45.3685 780.731 Q40.7631 780.731 40.7631 784.306 Q40.7631 786.077 41.4394 787.752 Q42.0835 789.394 42.9853 790.521 Q43.887 791.649 45.1431 792.679 Q46.3669 793.678 47.2042 794.193 Q48.0094 794.676 48.8145 795.062 L52.0995 795.9 Q53.0013 796.093 56.5117 797.027 L62.4698 798.476 Q66.9142 799.507 67.3329 799.732 Q68.2347 800.054 68.7177 800.763 Q69.2008 801.471 69.2008 802.18 Q69.2008 802.985 68.7177 803.533 Q68.2347 804.08 67.3973 804.08 Q67.2685 804.08 66.7854 803.983 Q66.3023 803.887 65.626 803.726 Q64.9497 803.565 64.5632 803.5 L49.3298 799.668 Q46.5601 798.959 45.6906 798.798 Q44.7888 798.605 43.7904 798.605 Q40.7631 798.605 40.7631 800.666 Q40.7631 802.341 42.7598 803.436 Q44.7566 804.531 48.6213 805.465 Q49.6841 805.755 49.9095 805.948 Q50.135 806.109 50.135 806.592 Q50.1028 807.397 49.4586 807.397 Q49.2976 807.397 48.267 807.14 Q47.2364 806.882 45.6906 806.399 Q44.1125 805.884 43.0819 805.336 Q42.4056 805.014 41.9547 804.724 Q41.5038 804.434 40.7953 803.855 Q40.0867 803.275 39.7003 802.405 Q39.3138 801.536 39.3138 800.473 Q39.3138 798.122 40.8275 796.383 Q42.3411 794.612 45.0464 794.386 Q39.3138 790.103 39.3138 784.112 Q39.3138 780.731 41.0207 778.702 Q42.6632 776.802 45.6906 776.576 Q39.3138 772.132 39.3138 765.82 Q39.3138 762.18 41.2139 760.216 Q43.0819 758.251 46.3669 758.251 Q48.0738 758.251 51.3266 759.121 Q54.5472 759.99 56.1575 760.57 Q57.7677 761.15 60.8595 762.277 Q63.8225 763.468 65.5616 763.468 Q66.6888 763.468 67.2041 763.082 Q67.7194 762.696 67.7194 761.858 Q67.7194 760.57 66.9786 759.443 Q66.2057 758.316 64.9497 757.51 Q63.6614 756.673 62.3732 756.126 Q61.0527 755.578 59.5713 755.159 Q58.7661 754.902 58.5729 754.773 Q58.3797 754.612 58.3797 754.161 Q58.3797 753.356 59.0238 753.356 Z\" fill=\"#000000\" fill-rule=\"evenodd\" fill-opacity=\"1\" /><path clip-path=\"url(#clip890)\" d=\"M50.457 720.743 Q53.9675 720.743 57.4457 722.289 Q60.8917 723.835 63.4682 726.315 Q66.0124 728.763 67.6227 731.983 Q69.2008 735.204 69.2008 738.424 Q69.2008 743.03 66.0769 746.025 Q62.9207 748.988 58.0254 748.988 Q53.4522 748.988 49.1044 746.444 Q44.7244 743.867 42.0191 739.745 Q39.3138 735.622 39.3138 731.307 Q39.3138 726.766 42.3733 723.771 Q45.4329 720.743 50.457 720.743 M47.8805 725.574 Q44.7566 725.574 42.7598 727.088 Q40.7631 728.601 40.7631 731.371 Q40.7631 732.176 41.0207 733.11 Q41.2461 734.044 41.8581 735.268 Q42.47 736.46 43.7582 737.812 Q45.0142 739.133 46.8178 740.292 Q49.201 741.806 53.581 742.965 Q57.9288 744.093 60.5375 744.093 Q64.1445 744.093 65.948 742.418 Q67.7194 740.743 67.7194 738.36 Q67.7194 736.041 66.1091 733.593 Q64.4666 731.114 61.6647 729.407 Q58.7661 727.7 54.515 726.637 Q50.2316 725.574 47.8805 725.574 Z\" fill=\"#000000\" fill-rule=\"evenodd\" fill-opacity=\"1\" /><path clip-path=\"url(#clip890)\" d=\"M23.4041 703.206 L61.5358 712.707 Q63.0495 713.094 64.692 713.094 Q67.7194 713.094 67.7194 711.097 Q67.7194 710.163 67.1074 709.39 Q66.4633 708.617 65.2073 708.037 Q63.9191 707.425 62.6952 707.039 Q61.4714 706.62 59.5713 706.105 Q58.8305 705.944 58.6051 705.783 Q58.3797 705.622 58.3797 705.171 Q58.3797 704.366 59.0238 704.366 Q62.9851 705.171 65.4972 706.363 Q69.2008 708.102 69.2008 711.322 Q69.2008 713.738 67.5261 715.541 Q65.8192 717.313 63.1139 717.313 Q62.0833 717.313 60.8595 716.991 L27.8807 708.681 L26.5925 708.456 Q26.2382 708.456 26.045 708.585 Q25.8517 708.714 25.6585 709.487 Q25.4653 710.227 25.4653 711.709 Q25.4653 712.321 25.4331 712.611 Q25.4009 712.868 25.2398 713.126 Q25.0788 713.351 24.7245 713.351 Q24.1448 713.351 23.8228 713.126 Q23.5007 712.868 23.4363 712.675 Q23.3719 712.482 23.3397 712.095 Q23.3075 711.548 23.1464 709.712 Q22.9532 707.876 22.8244 706.298 Q22.6956 704.72 22.6956 704.044 Q22.6956 703.657 22.8888 703.464 Q23.0498 703.239 23.2431 703.206 L23.4041 703.206 Z\" fill=\"#000000\" fill-rule=\"evenodd\" fill-opacity=\"1\" /><path clip-path=\"url(#clip890)\" d=\"M84.0155 697.855 Q83.6935 697.855 82.9849 697.597 L20.7632 674.312 Q20.6988 674.312 20.3445 674.151 Q19.9903 673.99 19.7648 673.893 Q19.5072 673.797 19.314 673.603 Q19.1207 673.378 19.1207 673.12 Q19.1207 672.476 19.9259 672.476 Q19.9903 672.476 20.7632 672.67 L83.0494 696.019 Q84.1766 696.405 84.4986 696.663 Q84.8207 696.888 84.8207 697.275 Q84.8207 697.855 84.0155 697.855 Z\" fill=\"#000000\" fill-rule=\"evenodd\" fill-opacity=\"1\" /><path clip-path=\"url(#clip890)\" d=\"M60.8273 640.102 Q61.1172 639.844 61.407 639.844 Q61.6969 639.844 62.5342 640.489 Q63.3716 641.1 64.4988 642.421 Q65.626 643.741 66.6888 645.448 Q67.7516 647.155 68.4601 649.667 Q69.2008 652.179 69.2008 654.82 Q69.2008 659.554 65.8192 662.389 Q62.4376 665.19 57.2525 665.19 Q53.9353 665.19 51.0045 664.095 Q48.0416 663 45.9482 661.229 Q43.8548 659.426 42.3411 657.171 Q40.7953 654.885 40.0545 652.501 Q39.3138 650.118 39.3138 647.896 Q39.3138 644.643 40.9563 642.743 Q42.5988 640.843 44.9176 640.843 Q45.4651 640.843 46.1414 641.004 Q46.8178 641.133 47.8805 641.584 Q48.9433 642.002 50.0061 643.097 Q51.0367 644.192 51.713 645.803 Q53.2267 649.377 53.2267 655.883 L53.2267 659.393 Q57.3813 660.424 60.0866 660.424 Q61.1494 660.424 62.2444 660.231 Q63.3072 660.038 64.6598 659.522 Q66.0124 658.975 66.882 657.751 Q67.7194 656.495 67.7194 654.691 Q67.7194 654.112 67.6872 653.5 Q67.6549 652.856 67.3007 651.245 Q66.9464 649.603 66.3345 648.154 Q65.7226 646.704 64.4022 644.869 Q63.0495 643.001 61.2138 641.519 Q60.5375 641.004 60.5375 640.65 Q60.5375 640.36 60.8273 640.102 M44.9176 643.033 Q43.1463 643.033 41.9547 644.353 Q40.7631 645.641 40.7631 647.896 Q40.7631 648.604 40.9241 649.474 Q41.0851 650.344 41.7614 651.793 Q42.4378 653.21 43.565 654.466 Q44.66 655.722 46.8178 656.978 Q48.9433 658.234 51.7775 658.975 L51.7775 656.269 Q51.7775 655.335 51.7775 654.659 Q51.7453 653.983 51.6164 652.501 Q51.4876 650.988 51.2622 649.893 Q51.0045 648.798 50.4892 647.413 Q49.9739 646.028 49.2976 645.158 Q48.5891 644.257 47.4619 643.645 Q46.3347 643.033 44.9176 643.033 Z\" fill=\"#000000\" fill-rule=\"evenodd\" fill-opacity=\"1\" /><path clip-path=\"url(#clip890)\" d=\"M59.0238 582.038 Q59.2814 582.038 60.2798 582.328 Q61.2782 582.618 62.8241 583.326 Q64.37 584.002 65.787 584.969 Q67.1719 585.903 68.2024 587.448 Q69.2008 588.962 69.2008 590.701 Q69.2008 593.02 67.6549 594.566 Q66.1091 596.112 63.7902 596.112 Q62.5342 596.112 60.151 595.242 Q49.2654 591.152 45.3685 591.152 Q40.7631 591.152 40.7631 594.727 Q40.7631 596.756 41.6004 598.592 Q42.4378 600.427 43.5972 601.619 Q44.7566 602.811 46.077 603.745 Q47.3975 604.679 48.267 605.097 Q49.1366 605.484 49.523 605.58 L65.4327 609.542 Q66.7854 609.864 67.4295 610.089 Q68.0736 610.315 68.6211 610.927 Q69.2008 611.538 69.2008 612.505 Q69.2008 613.31 68.7177 613.889 Q68.2347 614.437 67.3973 614.437 Q67.2685 614.437 66.5922 614.276 Q65.9158 614.115 64.9819 613.889 Q64.0479 613.664 63.5004 613.567 Q59.1204 612.408 58.5085 612.247 L50.8435 610.411 Q47.0432 609.413 45.3685 609.413 Q40.7631 609.413 40.7631 612.988 Q40.7631 614.759 41.4394 616.434 Q42.0835 618.076 42.9853 619.203 Q43.887 620.331 45.1431 621.361 Q46.3669 622.36 47.2042 622.875 Q48.0094 623.358 48.8145 623.744 L52.0995 624.582 Q53.0013 624.775 56.5117 625.709 L62.4698 627.158 Q66.9142 628.189 67.3329 628.414 Q68.2347 628.736 68.7177 629.445 Q69.2008 630.153 69.2008 630.862 Q69.2008 631.667 68.7177 632.215 Q68.2347 632.762 67.3973 632.762 Q67.2685 632.762 66.7854 632.665 Q66.3023 632.569 65.626 632.408 Q64.9497 632.247 64.5632 632.182 L49.3298 628.35 Q46.5601 627.641 45.6906 627.48 Q44.7888 627.287 43.7904 627.287 Q40.7631 627.287 40.7631 629.348 Q40.7631 631.023 42.7598 632.118 Q44.7566 633.213 48.6213 634.147 Q49.6841 634.437 49.9095 634.63 Q50.135 634.791 50.135 635.274 Q50.1028 636.079 49.4586 636.079 Q49.2976 636.079 48.267 635.822 Q47.2364 635.564 45.6906 635.081 Q44.1125 634.566 43.0819 634.018 Q42.4056 633.696 41.9547 633.406 Q41.5038 633.116 40.7953 632.537 Q40.0867 631.957 39.7003 631.087 Q39.3138 630.218 39.3138 629.155 Q39.3138 626.804 40.8275 625.065 Q42.3411 623.294 45.0464 623.068 Q39.3138 618.785 39.3138 612.794 Q39.3138 609.413 41.0207 607.384 Q42.6632 605.484 45.6906 605.258 Q39.3138 600.814 39.3138 594.502 Q39.3138 590.862 41.2139 588.898 Q43.0819 586.933 46.3669 586.933 Q48.0738 586.933 51.3266 587.803 Q54.5472 588.672 56.1575 589.252 Q57.7677 589.832 60.8595 590.959 Q63.8225 592.15 65.5616 592.15 Q66.6888 592.15 67.2041 591.764 Q67.7194 591.378 67.7194 590.54 Q67.7194 589.252 66.9786 588.125 Q66.2057 586.998 64.9497 586.192 Q63.6614 585.355 62.3732 584.808 Q61.0527 584.26 59.5713 583.841 Q58.7661 583.584 58.5729 583.455 Q58.3797 583.294 58.3797 582.843 Q58.3797 582.038 59.0238 582.038 Z\" fill=\"#000000\" fill-rule=\"evenodd\" fill-opacity=\"1\" /><path clip-path=\"url(#clip890)\" d=\"M59.0238 545.077 Q63.1783 545.914 65.5616 547.042 Q69.2008 548.877 69.2008 551.937 Q69.2008 554.062 68.0092 555.673 Q66.7854 557.251 64.7564 557.798 Q65.5616 558.41 66.1091 558.958 Q66.6566 559.473 67.4939 560.471 Q68.2991 561.47 68.7499 562.822 Q69.2008 564.143 69.2008 565.657 Q69.2008 566.816 68.9754 567.879 Q68.7822 568.942 68.2347 570.069 Q67.6549 571.164 66.7854 571.969 Q65.9158 572.742 64.4988 573.257 Q63.0817 573.772 61.2782 573.772 Q59.0238 573.772 55.9642 572.903 Q52.9047 572.001 47.4297 569.94 Q44.5311 568.813 42.9208 568.813 Q42.1801 568.813 41.697 568.974 Q41.2139 569.135 41.0529 569.457 Q40.8597 569.747 40.8275 569.94 Q40.7631 570.133 40.7631 570.455 Q40.7631 572.452 42.792 574.191 Q44.821 575.93 48.9433 577.122 Q49.7485 577.379 49.9417 577.541 Q50.135 577.702 50.135 578.185 Q50.1028 578.99 49.4586 578.99 Q49.201 578.99 48.2026 578.7 Q47.172 578.41 45.6583 577.734 Q44.1125 577.025 42.7276 576.059 Q41.3106 575.093 40.3122 573.579 Q39.3138 572.033 39.3138 570.262 Q39.3138 567.847 40.8919 566.365 Q42.4378 564.851 44.7244 564.851 Q46.1414 564.851 48.8789 565.979 Q58.3797 569.553 62.341 569.553 Q67.7194 569.553 67.7194 565.463 Q67.7194 564.111 67.1719 562.855 Q66.6244 561.566 65.8514 560.729 Q65.0785 559.892 64.2411 559.248 Q63.4038 558.571 62.8563 558.281 Q62.3088 557.959 62.18 557.927 L42.3411 553 Q41.5682 552.806 41.0529 552.452 Q40.5054 552.066 40.3122 551.615 Q40.1189 551.164 40.0867 550.906 Q40.0223 550.649 40.0223 550.423 Q40.0223 549.618 40.5054 549.071 Q40.9885 548.491 41.8258 548.491 Q41.9869 548.491 42.7598 548.684 Q43.5006 548.845 44.5956 549.103 Q45.6583 549.36 46.2381 549.489 Q50.296 550.52 50.7147 550.616 L57.8322 552.452 Q58.2508 552.549 59.6035 552.871 Q60.9561 553.161 61.6647 553.322 Q62.341 553.483 63.275 553.644 Q64.1767 553.773 64.692 553.773 Q66.3023 553.773 67.0108 553.29 Q67.7194 552.806 67.7194 551.744 Q67.7194 550.745 67.043 549.972 Q66.3345 549.167 64.9819 548.555 Q63.597 547.943 62.4698 547.589 Q61.3426 547.235 59.5713 546.784 Q58.7983 546.623 58.6051 546.494 Q58.3797 546.333 58.3797 545.882 Q58.3797 545.077 59.0238 545.077 Z\" fill=\"#000000\" fill-rule=\"evenodd\" fill-opacity=\"1\" /><path clip-path=\"url(#clip890)\" d=\"M84.3054 539.789 Q83.9833 539.789 83.1782 538.951 Q72.357 528.323 51.9707 528.323 Q31.52 528.323 21.1819 538.533 Q19.9903 539.789 19.636 539.789 Q18.9919 539.789 18.9919 539.145 Q18.9919 538.694 20.3123 537.116 Q21.6328 535.505 24.6601 533.09 Q27.6875 530.642 31.3911 528.839 Q40.3766 524.491 51.9707 524.491 Q63.1139 524.491 72.0994 528.645 Q75.8674 530.417 79.0236 532.897 Q82.1798 535.376 83.5646 537.019 Q84.9495 538.661 84.9495 539.145 Q84.9495 539.789 84.3054 539.789 Z\" fill=\"#000000\" fill-rule=\"evenodd\" fill-opacity=\"1\" /><polyline clip-path=\"url(#clip892)\" style=\"stroke:#0000ff; stroke-linecap:butt; stroke-linejoin:round; stroke-width:4; stroke-opacity:1; fill:none\" points=\"\n",
       "  292.557,1367.45 298.288,1361.15 304.02,1354.6 309.751,1348.58 315.482,1341.9 321.213,1336.1 326.944,1329.93 332.676,1324.07 338.407,1317.74 344.138,1311.95 \n",
       "  349.869,1305.79 355.601,1299.95 361.332,1294.24 367.063,1288.5 372.794,1282.87 378.525,1277.17 384.257,1271.55 389.988,1266.26 395.719,1260.4 401.45,1255.04 \n",
       "  407.181,1249.77 412.913,1244.42 418.644,1239.04 424.375,1233.72 430.106,1228.73 435.837,1223.12 441.569,1218.21 447.3,1212.87 453.031,1208.16 458.762,1203.11 \n",
       "  464.494,1198.33 470.225,1193.04 475.956,1188.44 481.687,1183.84 487.418,1179.14 493.15,1174.3 498.881,1169.27 504.612,1164.74 510.343,1160.14 516.074,1155.52 \n",
       "  521.806,1150.79 527.537,1146.68 533.268,1141.98 538.999,1137.97 544.73,1133.46 550.462,1129 556.193,1125.05 561.924,1120.48 567.655,1116.38 573.387,1112.31 \n",
       "  579.118,1108.13 584.849,1103.92 590.58,1099.92 596.311,1095.84 602.043,1091.84 607.774,1087.85 613.505,1084.03 619.236,1080.25 624.967,1076.4 630.699,1072.37 \n",
       "  636.43,1068.61 642.161,1064.93 647.892,1061.17 653.624,1057.39 659.355,1053.15 665.086,1049.73 670.817,1046.13 676.548,1042.45 682.28,1038.65 688.011,1035.18 \n",
       "  693.742,1031.45 699.473,1028.04 705.204,1024.47 710.936,1020.94 716.667,1017.53 722.398,1013.98 728.129,1010.36 733.86,1007.05 739.592,1003.34 745.323,1000.26 \n",
       "  751.054,996.394 756.785,993.088 762.517,989.602 768.248,986.09 773.979,982.79 779.71,979.343 785.441,976.128 791.173,972.381 796.904,969.069 802.635,965.705 \n",
       "  808.366,962.504 814.097,959.128 819.829,955.406 825.56,952.036 831.291,949.113 837.022,945.539 842.754,942.345 848.485,938.955 854.216,935.743 859.947,932.28 \n",
       "  865.678,929.117 871.41,925.9 877.141,922.457 882.872,918.929 888.603,915.68 894.334,912.601 900.066,909.333 905.797,905.817 911.528,902.64 917.259,899.399 \n",
       "  922.99,896.046 928.722,892.734 934.453,889.231 940.184,885.862 945.915,882.626 951.647,879.679 957.378,876.232 963.109,872.814 968.84,869.736 974.571,866.09 \n",
       "  980.303,862.847 986.034,859.942 991.765,856.378 997.496,852.958 1003.23,849.952 1008.96,846.632 1014.69,843.281 1020.42,839.97 1026.15,836.659 1031.88,833.353 \n",
       "  1037.61,830.191 1043.35,826.72 1049.08,823.625 1054.81,820.077 1060.54,816.819 1066.27,813.594 1072,810.415 1077.73,806.695 1083.46,803.578 1089.2,800.112 \n",
       "  1094.93,797.201 1100.66,793.74 1106.39,790.363 1112.12,787.003 1117.85,783.702 1123.58,780.332 1129.31,777.031 1135.05,773.863 1140.78,770.468 1146.51,767.059 \n",
       "  1152.24,763.78 1157.97,760.651 1163.7,757.354 1169.43,753.714 1175.16,750.664 1180.9,747.432 1186.63,744.022 1192.36,740.589 1198.09,737.187 1203.82,734.018 \n",
       "  1209.55,730.976 1215.28,727.09 1221.01,723.956 1226.74,720.555 1232.48,717.308 1238.21,714.157 1243.94,710.905 1249.67,707.281 1255.4,704.014 1261.13,700.63 \n",
       "  1266.86,697.199 1272.59,693.795 1278.33,690.342 1284.06,687.247 1289.79,683.802 1295.52,680.634 1301.25,677.143 1306.98,673.999 1312.71,670.414 1318.44,667.12 \n",
       "  1324.18,663.899 1329.91,660.426 1335.64,657.129 1341.37,653.96 1347.1,650.41 1352.83,647.035 1358.56,643.603 1364.29,640.185 1370.03,636.982 1375.76,633.571 \n",
       "  1381.49,630.213 1387.22,626.611 1392.95,623.619 1398.68,620.06 1404.41,616.688 1410.14,613.39 1415.87,610.018 1421.61,606.692 1427.34,603.206 1433.07,599.506 \n",
       "  1438.8,596.543 1444.53,592.983 1450.26,589.466 1455.99,586.39 1461.72,582.685 1467.46,579.482 1473.19,576.116 1478.92,573.032 1484.65,569.21 1490.38,565.821 \n",
       "  1496.11,562.651 1501.84,559.047 1507.57,555.847 1513.31,552.325 1519.04,548.967 1524.77,545.796 1530.5,542.335 1536.23,538.716 1541.96,535.358 1547.69,532.14 \n",
       "  1553.42,528.606 1559.15,525.321 1564.89,521.755 1570.62,518.56 1576.35,515.078 1582.08,511.827 1587.81,508.248 1593.54,504.558 1599.27,501.412 1605,498.089 \n",
       "  1610.74,494.357 1616.47,491.392 1622.2,488.001 1627.93,484.381 1633.66,480.909 1639.39,477.83 1645.12,474.26 1650.85,470.914 1656.59,467.319 1662.32,463.858 \n",
       "  1668.05,460.521 1673.78,457.514 1679.51,453.71 1685.24,450.656 1690.97,446.828 1696.7,443.245 1702.44,440.011 1708.17,436.637 1713.9,433.469 1719.63,429.942 \n",
       "  1725.36,426.317 1731.09,422.839 1736.82,419.82 1742.55,416.479 1748.28,413.09 1754.02,409.468 1759.75,405.976 1765.48,402.376 1771.21,398.963 1776.94,395.643 \n",
       "  1782.67,392.623 1788.4,388.766 1794.13,385.19 1799.87,381.834 1805.6,378.638 1811.33,374.869 1817.06,371.697 1822.79,368.081 1828.52,364.831 1834.25,361.215 \n",
       "  1839.98,357.707 1845.72,354.357 1851.45,350.786 1857.18,347.396 1862.91,344.129 1868.64,340.556 1874.37,337.427 1880.1,333.988 1885.83,330.46 1891.57,326.997 \n",
       "  1897.3,323.777 1903.03,320.088 1908.76,316.755 1914.49,313.281 1920.22,309.795 1925.95,306.512 1931.68,302.653 1937.41,299.715 1943.15,296.192 1948.88,292.329 \n",
       "  1954.61,289.456 1960.34,285.936 1966.07,282.352 1971.8,278.764 1977.53,275.336 1983.26,272.165 1989,268.661 1994.73,265.028 2000.46,261.739 2006.19,258.144 \n",
       "  2011.92,254.886 2017.65,251.395 2023.38,247.876 2029.11,244.245 2034.85,240.799 2040.58,237.33 2046.31,234.286 2052.04,230.546 2057.77,227.115 2063.5,223.733 \n",
       "  2069.23,220.5 2074.96,217.064 2080.7,213.514 2086.43,209.97 2092.16,206.435 2097.89,202.835 2103.62,199.654 2109.35,196.277 2115.08,192.932 2120.81,189.438 \n",
       "  2126.54,185.889 2132.28,182.509 2138.01,178.866 2143.74,175.396 2149.47,171.913 2155.2,168.726 2160.93,165.225 2166.66,161.779 2172.39,158.171 2178.13,154.802 \n",
       "  2183.86,151.369 2189.59,147.947 2195.32,144.206 2201.05,140.777 2206.78,137.215 2212.51,133.684 2218.24,130.731 2223.98,127.395 2229.71,123.662 2235.44,120.191 \n",
       "  2241.17,116.709 2246.9,113.083 2252.63,109.766 2258.36,106.583 2264.09,102.718 2269.83,99.4246 2275.56,96.2159 2281.29,92.7704 2287.02,88.9613 2292.75,85.6966 \n",
       "  \n",
       "  \"/>\n",
       "<path clip-path=\"url(#clip890)\" d=\"\n",
       "M1945.37 1360.61 L2282.08 1360.61 L2282.08 1256.93 L1945.37 1256.93  Z\n",
       "  \" fill=\"#ffffff\" fill-rule=\"evenodd\" fill-opacity=\"1\"/>\n",
       "<polyline clip-path=\"url(#clip890)\" style=\"stroke:#000000; stroke-linecap:butt; stroke-linejoin:round; stroke-width:4; stroke-opacity:1; fill:none\" points=\"\n",
       "  1945.37,1360.61 2282.08,1360.61 2282.08,1256.93 1945.37,1256.93 1945.37,1360.61 \n",
       "  \"/>\n",
       "<polyline clip-path=\"url(#clip890)\" style=\"stroke:#0000ff; stroke-linecap:butt; stroke-linejoin:round; stroke-width:5; stroke-opacity:1; fill:none\" points=\"\n",
       "  1969.37,1308.77 2113.37,1308.77 \n",
       "  \"/>\n",
       "<path clip-path=\"url(#clip890)\" d=\"M2157.72 1305.1 Q2159.31 1302.23 2161.54 1300.87 Q2163.76 1299.5 2166.77 1299.5 Q2170.82 1299.5 2173.02 1302.35 Q2175.22 1305.17 2175.22 1310.4 L2175.22 1326.05 L2170.93 1326.05 L2170.93 1310.54 Q2170.93 1306.82 2169.62 1305.01 Q2168.3 1303.2 2165.59 1303.2 Q2162.28 1303.2 2160.36 1305.4 Q2158.43 1307.6 2158.43 1311.4 L2158.43 1326.05 L2154.15 1326.05 L2154.15 1310.54 Q2154.15 1306.79 2152.83 1305.01 Q2151.51 1303.2 2148.76 1303.2 Q2145.49 1303.2 2143.57 1305.43 Q2141.65 1307.63 2141.65 1311.4 L2141.65 1326.05 L2137.37 1326.05 L2137.37 1300.13 L2141.65 1300.13 L2141.65 1304.15 Q2143.11 1301.77 2145.15 1300.63 Q2147.18 1299.5 2149.99 1299.5 Q2152.81 1299.5 2154.78 1300.94 Q2156.77 1302.37 2157.72 1305.1 Z\" fill=\"#000000\" fill-rule=\"evenodd\" fill-opacity=\"1\" /><path clip-path=\"url(#clip890)\" d=\"M2195.49 1313.02 Q2190.33 1313.02 2188.34 1314.2 Q2186.35 1315.38 2186.35 1318.23 Q2186.35 1320.5 2187.83 1321.84 Q2189.34 1323.16 2191.91 1323.16 Q2195.45 1323.16 2197.58 1320.66 Q2199.73 1318.13 2199.73 1313.97 L2199.73 1313.02 L2195.49 1313.02 M2203.99 1311.26 L2203.99 1326.05 L2199.73 1326.05 L2199.73 1322.12 Q2198.27 1324.48 2196.1 1325.61 Q2193.92 1326.72 2190.77 1326.72 Q2186.79 1326.72 2184.43 1324.5 Q2182.09 1322.26 2182.09 1318.51 Q2182.09 1314.13 2185.01 1311.91 Q2187.95 1309.69 2193.76 1309.69 L2199.73 1309.69 L2199.73 1309.27 Q2199.73 1306.33 2197.79 1304.73 Q2195.87 1303.11 2192.37 1303.11 Q2190.15 1303.11 2188.04 1303.64 Q2185.93 1304.18 2183.99 1305.24 L2183.99 1301.31 Q2186.33 1300.4 2188.53 1299.96 Q2190.73 1299.5 2192.81 1299.5 Q2198.43 1299.5 2201.21 1302.42 Q2203.99 1305.33 2203.99 1311.26 Z\" fill=\"#000000\" fill-rule=\"evenodd\" fill-opacity=\"1\" /><path clip-path=\"url(#clip890)\" d=\"M2229.82 1312.79 Q2229.82 1308.16 2227.9 1305.61 Q2226 1303.07 2222.55 1303.07 Q2219.13 1303.07 2217.21 1305.61 Q2215.31 1308.16 2215.31 1312.79 Q2215.31 1317.39 2217.21 1319.94 Q2219.13 1322.49 2222.55 1322.49 Q2226 1322.49 2227.9 1319.94 Q2229.82 1317.39 2229.82 1312.79 M2234.08 1322.83 Q2234.08 1329.45 2231.14 1332.67 Q2228.2 1335.91 2222.14 1335.91 Q2219.89 1335.91 2217.9 1335.57 Q2215.91 1335.24 2214.04 1334.55 L2214.04 1330.4 Q2215.91 1331.42 2217.74 1331.91 Q2219.57 1332.39 2221.47 1332.39 Q2225.66 1332.39 2227.74 1330.19 Q2229.82 1328.02 2229.82 1323.6 L2229.82 1321.49 Q2228.5 1323.78 2226.44 1324.92 Q2224.38 1326.05 2221.51 1326.05 Q2216.74 1326.05 2213.83 1322.42 Q2210.91 1318.78 2210.91 1312.79 Q2210.91 1306.77 2213.83 1303.13 Q2216.74 1299.5 2221.51 1299.5 Q2224.38 1299.5 2226.44 1300.63 Q2228.5 1301.77 2229.82 1304.06 L2229.82 1300.13 L2234.08 1300.13 L2234.08 1322.83 Z\" fill=\"#000000\" fill-rule=\"evenodd\" fill-opacity=\"1\" /></svg>\n"
      ]
     },
     "metadata": {},
     "output_type": "display_data"
    }
   ],
   "source": [
    "#chi\n",
    "plot(temp(), chi_inv_Temp_noise,label=\"mag\",color=\"blue\")\n",
    "plot!(xlabel=L\"T(K)\",ylabel=L\"1/\\chi(mol/emu)\")\n",
    "plot!(legendfontsize=10,xtickfont=font(12), ytickfont=font(12))\n",
    "plot!(legend=:bottomright)"
   ]
  },
  {
   "cell_type": "code",
   "execution_count": 16,
   "metadata": {},
   "outputs": [],
   "source": [
    "savefig(path * \"chi_data.pdf\")"
   ]
  },
  {
   "cell_type": "markdown",
   "metadata": {},
   "source": [
    "# 逆温度"
   ]
  },
  {
   "cell_type": "code",
   "execution_count": 17,
   "metadata": {},
   "outputs": [
    {
     "data": {
      "text/plain": [
       "50"
      ]
     },
     "metadata": {},
     "output_type": "display_data"
    }
   ],
   "source": [
    "#レプリカ数\n",
    "const L = 50"
   ]
  },
  {
   "cell_type": "code",
   "execution_count": 18,
   "metadata": {},
   "outputs": [
    {
     "data": {
      "text/plain": [
       "make_beta (generic function with 1 method)"
      ]
     },
     "metadata": {},
     "output_type": "display_data"
    }
   ],
   "source": [
    "#逆温度\n",
    "function make_beta(gamma,L)\n",
    "    beta_list = gamma.^( (1:1:L) .- L )\n",
    "    return beta_list\n",
    "end"
   ]
  },
  {
   "cell_type": "code",
   "execution_count": 62,
   "metadata": {},
   "outputs": [
    {
     "name": "stderr",
     "output_type": "stream",
     "text": [
      "WARNING: redefinition of constant beta_list. This may fail, cause incorrect answers, or produce other errors.\n"
     ]
    },
    {
     "data": {
      "text/plain": [
       "50-element Vector{Float64}:\n",
       " 3.102038973662444e-13\n",
       " 5.583670152592399e-13\n",
       " 1.005060627466632e-12\n",
       " 1.8091091294399376e-12\n",
       " 3.2563964329918876e-12\n",
       " 5.861513579385398e-12\n",
       " 1.0550724442893717e-11\n",
       " 1.8991303997208692e-11\n",
       " 3.418434719497564e-11\n",
       " 6.153182495095616e-11\n",
       " ⋮\n",
       " 0.009074442627116708\n",
       " 0.016333996728810075\n",
       " 0.029401194111858132\n",
       " 0.05292214940134464\n",
       " 0.09525986892242036\n",
       " 0.17146776406035663\n",
       " 0.30864197530864196\n",
       " 0.5555555555555556\n",
       " 1.0"
      ]
     },
     "metadata": {},
     "output_type": "display_data"
    }
   ],
   "source": [
    "const beta_list = make_beta(1.8, L)"
   ]
  },
  {
   "cell_type": "markdown",
   "metadata": {},
   "source": [
    "# ステップサイズ"
   ]
  },
  {
   "cell_type": "code",
   "execution_count": 20,
   "metadata": {},
   "outputs": [
    {
     "data": {
      "text/plain": [
       "step_size_make (generic function with 1 method)"
      ]
     },
     "metadata": {},
     "output_type": "display_data"
    }
   ],
   "source": [
    "function step_size_make(C1,C2,d,e)\n",
    "    #データ数\n",
    "    n = data_num_chi()\n",
    "\n",
    "    #一度低温領域のステップサイズをふる\n",
    "    step_size_list = C1 ./ (n_chi * beta_list).^ d\n",
    "    \n",
    "    #高温領域のステップサイズ\n",
    "    step_size_list[n * beta_list .< e] .= C2\n",
    "    \n",
    "    return step_size_list\n",
    "end"
   ]
  },
  {
   "cell_type": "code",
   "execution_count": 63,
   "metadata": {},
   "outputs": [
    {
     "name": "stderr",
     "output_type": "stream",
     "text": [
      "WARNING: redefinition of constant step_size_B20. This may fail, cause incorrect answers, or produce other errors.\n",
      "WARNING: redefinition of constant step_size_B40. This may fail, cause incorrect answers, or produce other errors.\n",
      "WARNING: redefinition of constant step_size_B44. This may fail, cause incorrect answers, or produce other errors.\n"
     ]
    },
    {
     "data": {
      "text/plain": [
       "50-element Vector{Float64}:\n",
       " 0.01\n",
       " 0.01\n",
       " 0.01\n",
       " 0.01\n",
       " 0.01\n",
       " 0.01\n",
       " 0.01\n",
       " 0.01\n",
       " 0.01\n",
       " 0.01\n",
       " ⋮\n",
       " 0.004453263545101654\n",
       " 0.002951125263505276\n",
       " 0.0019556759290562677\n",
       " 0.0012960033878559416\n",
       " 0.0008588461699503551\n",
       " 0.0005691472341431755\n",
       " 0.0003771671638840179\n",
       " 0.00024994423407235204\n",
       " 0.00016563509798330538"
      ]
     },
     "metadata": {},
     "output_type": "display_data"
    }
   ],
   "source": [
    "const step_size_B20 = step_size_make(0.01,0.01,0.7,1)\n",
    "const step_size_B40 = step_size_make(0.01,0.01,0.7,1)\n",
    "const step_size_B44 = step_size_make(0.01,0.01,0.7,1)"
   ]
  },
  {
   "cell_type": "markdown",
   "metadata": {},
   "source": [
    "# 誤差関数"
   ]
  },
  {
   "cell_type": "code",
   "execution_count": 64,
   "metadata": {},
   "outputs": [
    {
     "data": {
      "text/plain": [
       "error_chi (generic function with 1 method)"
      ]
     },
     "metadata": {},
     "output_type": "display_data"
    }
   ],
   "source": [
    "function error_chi(B20,B40,B44)\n",
    "    error_value = sum((chi_inv_Temp_noise - chi(Onn_make(B20,B40,B44))).^2)/(2*n_chi)\n",
    "    return error_value\n",
    "end"
   ]
  },
  {
   "cell_type": "markdown",
   "metadata": {},
   "source": [
    "# 事前分布"
   ]
  },
  {
   "cell_type": "code",
   "execution_count": 24,
   "metadata": {},
   "outputs": [
    {
     "data": {
      "text/plain": [
       "cauchy (generic function with 1 method)"
      ]
     },
     "metadata": {},
     "output_type": "display_data"
    }
   ],
   "source": [
    "function cauchy(x)\n",
    "    #パラメータ設定\n",
    "    x_0 = 0\n",
    "    gamma = 10\n",
    "    \n",
    "    return (1 / pi) * gamma / (gamma^2 + (x-x_0)^2)\n",
    "end"
   ]
  },
  {
   "cell_type": "code",
   "execution_count": 65,
   "metadata": {},
   "outputs": [
    {
     "data": {
      "text/plain": [
       "half_cauchy (generic function with 1 method)"
      ]
     },
     "metadata": {},
     "output_type": "display_data"
    }
   ],
   "source": [
    "function half_cauchy(x)\n",
    "    if x <= 0.0\n",
    "        return 10^(-20)\n",
    "    else\n",
    "        #xが正のときはコーシー分布の値を返す\n",
    "        x_0 = 0\n",
    "        gamma = 10\n",
    "        return (1 / pi) * gamma / (gamma^2 + (x-x_0)^2)\n",
    "    end\n",
    "end"
   ]
  },
  {
   "cell_type": "code",
   "execution_count": 44,
   "metadata": {},
   "outputs": [
    {
     "data": {
      "text/plain": [
       "prior (generic function with 1 method)"
      ]
     },
     "metadata": {},
     "output_type": "display_data"
    }
   ],
   "source": [
    "function prior(B20,B40,B44)\n",
    "    return cauchy(B20) * cauchy(B40) * half_cauchy(B44)\n",
    "end"
   ]
  },
  {
   "cell_type": "markdown",
   "metadata": {},
   "source": [
    "# メトロポリス"
   ]
  },
  {
   "cell_type": "code",
   "execution_count": 66,
   "metadata": {},
   "outputs": [
    {
     "data": {
      "text/plain": [
       "metropolis_chi_B20 (generic function with 1 method)"
      ]
     },
     "metadata": {},
     "output_type": "display_data"
    }
   ],
   "source": [
    "function metropolis_chi_B20(para_B20_ini, para_B40_ini, para_B44_ini, flag, ac_B20)\n",
    "    #ステップサイズ\n",
    "    para_B20_renew = para_B20_ini + rand([1,-1],L) .* step_size_B20\n",
    "\n",
    "    #事前分布\n",
    "    prior_ratio = cauchy.(para_B20_renew) ./ cauchy.(para_B20_ini)\n",
    "    \n",
    "    #誤差関数の差\n",
    "    error_dif = error_chi.(para_B20_renew, para_B40_ini, para_B44_ini) - error_chi.(para_B20_ini, para_B40_ini, para_B44_ini)\n",
    "\n",
    "    #更新確率\n",
    "    prob = exp.(- n_chi * b_chi * beta_list .* error_dif) .* prior_ratio\n",
    "    \n",
    "    #更新\n",
    "    bit_vec = rand(L) .< prob\n",
    "    bit_flip_vec = 1 .- bit_vec \n",
    "    para_B20_return = para_B20_renew .* bit_vec + para_B20_ini .* bit_flip_vec\n",
    "\n",
    "    #交換率記録\n",
    "    if flag\n",
    "        ac_B20 += bit_vec\n",
    "    end\n",
    "\n",
    "    return para_B20_return, ac_B20\n",
    "end\n"
   ]
  },
  {
   "cell_type": "code",
   "execution_count": 67,
   "metadata": {},
   "outputs": [
    {
     "data": {
      "text/plain": [
       "metropolis_chi_B40 (generic function with 1 method)"
      ]
     },
     "metadata": {},
     "output_type": "display_data"
    }
   ],
   "source": [
    "function metropolis_chi_B40(para_B20_ini, para_B40_ini, para_B44_ini, flag, ac_B40)\n",
    "    #ステップサイズ\n",
    "    para_B40_renew = para_B40_ini + rand([1,-1],L) .* step_size_B40\n",
    "\n",
    "    #事前分布\n",
    "    prior_ratio = cauchy.(para_B40_renew) ./ cauchy.(para_B40_ini)\n",
    "    \n",
    "    #誤差関数の差\n",
    "    error_dif = error_chi.(para_B20_ini, para_B40_renew, para_B44_ini) - error_chi.(para_B20_ini, para_B40_ini, para_B44_ini)\n",
    "\n",
    "    #更新確率\n",
    "    prob = exp.(- n_chi * b_chi * beta_list .* error_dif) .* prior_ratio\n",
    "    \n",
    "    #更新\n",
    "    bit_vec = rand(L) .< prob\n",
    "    bit_flip_vec = 1 .- bit_vec \n",
    "    para_B40_return = para_B40_renew .* bit_vec + para_B40_ini .* bit_flip_vec\n",
    "\n",
    "    if flag\n",
    "        ac_B40 += bit_vec\n",
    "    end\n",
    "\n",
    "    return para_B40_return, ac_B40\n",
    "end\n"
   ]
  },
  {
   "cell_type": "code",
   "execution_count": 68,
   "metadata": {},
   "outputs": [
    {
     "data": {
      "text/plain": [
       "metropolis_chi_B44 (generic function with 1 method)"
      ]
     },
     "metadata": {},
     "output_type": "display_data"
    }
   ],
   "source": [
    "function metropolis_chi_B44(para_B20_ini, para_B40_ini, para_B44_ini, flag, ac_B44)\n",
    "    #ステップサイズ\n",
    "    para_B44_renew = para_B44_ini + rand([1,-1],L) .* step_size_B44\n",
    "\n",
    "    #事前分布\n",
    "    prior_ratio = half_cauchy.(para_B44_renew) ./ half_cauchy.(para_B44_ini)\n",
    "    \n",
    "    #誤差関数の差\n",
    "    error_dif = error_chi.(para_B20_ini, para_B40_ini, para_B44_renew) - error_chi.(para_B20_ini, para_B40_ini, para_B44_ini)\n",
    "\n",
    "    #更新確率\n",
    "    prob = exp.(- n_chi * b_chi * beta_list .* error_dif) .* prior_ratio\n",
    "    \n",
    "    #更新\n",
    "    bit_vec = rand(L) .< prob\n",
    "    bit_flip_vec = 1 .- bit_vec \n",
    "    para_B44_return = para_B44_renew .* bit_vec .+ para_B44_ini .* bit_flip_vec\n",
    "\n",
    "    if flag\n",
    "        ac_B44 += bit_vec\n",
    "    end\n",
    "\n",
    "    return para_B44_return, ac_B44\n",
    "end\n"
   ]
  },
  {
   "cell_type": "code",
   "execution_count": 69,
   "metadata": {},
   "outputs": [
    {
     "data": {
      "text/plain": [
       "metropolis_chi (generic function with 1 method)"
      ]
     },
     "metadata": {},
     "output_type": "display_data"
    }
   ],
   "source": [
    "function metropolis_chi(para_B20_ini, para_B40_ini, para_B44_ini, flag, ac_B20, ac_B40, ac_B44)\n",
    "    para_B20_renew, ac_B20 = metropolis_chi_B20(para_B20_ini, para_B40_ini, para_B44_ini, flag, ac_B20)\n",
    "    para_B40_renew, ac_B40 = metropolis_chi_B40(para_B20_ini, para_B40_ini, para_B44_ini, flag, ac_B40)\n",
    "    para_B44_renew, ac_B44 = metropolis_chi_B40(para_B20_ini, para_B40_ini, para_B44_ini, flag, ac_B44)\n",
    "    return para_B20_renew, para_B40_renew, para_B44_renew, ac_B20, ac_B40, ac_B44\n",
    "end\n"
   ]
  },
  {
   "cell_type": "markdown",
   "metadata": {},
   "source": [
    "# レプリカ交換"
   ]
  },
  {
   "cell_type": "code",
   "execution_count": 70,
   "metadata": {},
   "outputs": [
    {
     "data": {
      "text/plain": [
       "exchange_chi (generic function with 1 method)"
      ]
     },
     "metadata": {},
     "output_type": "display_data"
    }
   ],
   "source": [
    "function exchange_chi(para_B20, para_B40, para_B44, flag, ex_rate)\n",
    "    #逆温度の差\n",
    "    beta_dif = beta_list[2:end] - beta_list[1:end-1]\n",
    "\n",
    "    @inbounds @simd for replica in 1:L-1\n",
    "        #交換確率\n",
    "        prob = exp(n_chi * b_chi * beta_dif[replica] * (error_chi(para_B20[replica + 1], para_B40[replica + 1], para_B44[replica + 1]) - error_chi(para_B20[replica], para_B40[replica], para_B40[replica])))\n",
    "\n",
    "        #ビット\n",
    "        bit = rand() < prob # 1で交換、0で非交換\n",
    "\n",
    "        if bit == 1 #交換\n",
    "            para_B20[replica+1], para_B20[replica] = para_B20[replica], para_B20[replica+1]\n",
    "            para_B40[replica+1], para_B40[replica] = para_B40[replica], para_B40[replica+1]\n",
    "            para_B44[replica+1], para_B44[replica] = para_B44[replica], para_B44[replica+1]\n",
    "        end\n",
    "\n",
    "        if flag\n",
    "            ex_rate[replica] += bit\n",
    "        end\n",
    "    end\n",
    "\n",
    "    return para_B20, para_B40, para_B44, ex_rate\n",
    "end"
   ]
  },
  {
   "cell_type": "markdown",
   "metadata": {},
   "source": [
    "# exmc"
   ]
  },
  {
   "cell_type": "code",
   "execution_count": 71,
   "metadata": {},
   "outputs": [
    {
     "data": {
      "text/plain": [
       "initial_para_make (generic function with 1 method)"
      ]
     },
     "metadata": {},
     "output_type": "display_data"
    }
   ],
   "source": [
    "function initial_para_make()\n",
    "    #パラメータ候補値\n",
    "    para_num = collect(0.01:0.01:1.00)\n",
    "    #確率\n",
    "    para_prob = cauchy.(para_num)\n",
    "\n",
    "    return sample(para_num, ProbabilityWeights(para_prob),L)\n",
    "end"
   ]
  },
  {
   "cell_type": "code",
   "execution_count": 75,
   "metadata": {},
   "outputs": [
    {
     "data": {
      "text/plain": [
       "exmc (generic function with 1 method)"
      ]
     },
     "metadata": {},
     "output_type": "display_data"
    }
   ],
   "source": [
    "function exmc()\n",
    "    #初期パラメータ設定\n",
    "    para_B20 = initial_para_make() \n",
    "    para_B40 = initial_para_make() \n",
    "    para_B44 = initial_para_make() \n",
    "\n",
    "    #イテレーション数\n",
    "    iter_num_burn = 100000\n",
    "    iter_num = 100000\n",
    "    \n",
    "    #mcmcの中で交換する割合\n",
    "    exchange_iter = 3\n",
    "\n",
    "    #採択率・交換率\n",
    "    ac_B20 = zeros(Float16, L)\n",
    "    ac_B40 = zeros(Float16, L)\n",
    "    ac_B44 = zeros(Float16, L)\n",
    "    ex_rate = zeros(Float16, L)\n",
    "\n",
    "    #パラメータ\n",
    "    B20_save = zeros(Float16, iter_num, L)\n",
    "    B40_save = zeros(Float16, iter_num, L)\n",
    "    B44_save = zeros(Float16, iter_num, L)\n",
    "\n",
    "    #burn in\n",
    "    flag_burn = false\n",
    "    @threads for iter in 1:iter_num_burn\n",
    "        para_B20, para_B40, para_B44, _, _, _ = metropolis_chi(para_B20, para_B40, para_B44, flag_burn, 0, 0, 0)\n",
    "        if iter % exchange_iter == 0\n",
    "            para_B20, para_B40, para_B44, _ = exchange_chi(para_B20, para_B40, para_B44, flag_burn, 0)\n",
    "        end\n",
    "    end\n",
    "\n",
    "    #after burn in\n",
    "    #burn in\n",
    "    flag = true\n",
    "    @threads for iter in 1:iter_num\n",
    "        para_B20, para_B40, para_B44, ac_B20, ac_B40, ac_B44 = metropolis_chi(para_B20, para_B40, para_B44, flag, ac_B20, ac_B40, ac_B44)\n",
    "        \n",
    "        if iter % exchange_iter == 0\n",
    "            para_B20, para_B40, para_B44, ex_rate = exchange_chi(para_B20, para_B40, para_B44, flag, ex_rate)\n",
    "        end\n",
    "\n",
    "        B20_save[iter,:] = para_B20\n",
    "        B40_save[iter,:] = para_B40\n",
    "        B44_save[iter,:] = para_B44\n",
    "\n",
    "    end\n",
    "\n",
    "    ac_B20 /= iter_num\n",
    "    ac_B40 /= iter_num\n",
    "    ac_B44 /= iter_num\n",
    "    ex_rate /= (iter_num/exchange_iter)\n",
    "\n",
    "    return B20_save, B40_save, B44_save, ac_B20, ac_B40, ac_B44, ex_rate\n",
    "end\n"
   ]
  },
  {
   "cell_type": "code",
   "execution_count": 76,
   "metadata": {},
   "outputs": [
    {
     "data": {
      "text/plain": [
       "(Float16[-0.0728 -0.1946 … 0.634 0.634; -0.0828 -0.1846 … 0.634 0.634; … ; 0.1494 1.64 … 0.634 0.634; 0.1594 1.63 … 0.634 0.634], Float16[0.3567 1.325 … 0.01773 0.01772; 0.3467 1.335 … 0.01773 0.01772; … ; -1.45 0.7944 … 0.01773 0.01772; -1.46 0.804 … 0.01773 0.01772], Float16[0.3767 1.325 … 0.01773 0.01772; 0.3467 1.315 … 0.01773 0.01772; … ; -1.431 0.8145 … 0.01773 0.01772; -1.46 0.784 … 0.01773 0.01772], Float16[0.0, 0.0, 0.0, 0.0, 0.0, 0.0, 0.0, 0.0, 0.0, 0.0  …  0.0, 0.0, 0.0, 0.0, 0.0, 0.0, 0.0, 0.0, 0.0, 0.0], Float16[0.0, 0.0, 0.0, 0.0, 0.0, 0.0, 0.0, 0.0, 0.0, 0.0  …  0.0, 0.0, 0.0, 0.0, 0.0, 0.0, 0.0, 0.0, 0.0, 0.0], Float16[0.0, 0.0, 0.0, 0.0, 0.0, 0.0, 0.0, 0.0, 0.0, 0.0  …  0.0, 0.0, 0.0, 0.0, 0.0, 0.0, 0.0, 0.0, 0.0, 0.0], [0.061439999999999995, 0.061439999999999995, 0.061439999999999995, 0.061439999999999995, 0.061439999999999995, 0.061439999999999995, 0.061439999999999995, 0.061439999999999995, 0.061439999999999995, 0.061439999999999995  …  0.00066, 0.061439999999999995, 0.061439999999999995, 0.0010199999999999999, 0.010589999999999999, 0.0, 5.9999999999999995e-5, 0.0, 0.061439999999999995, 0.0])"
      ]
     },
     "metadata": {},
     "output_type": "display_data"
    }
   ],
   "source": [
    "para_B20, para_B40, para_B44, ac_B20, ac_B40, ac_B44, ex_rate = exmc()"
   ]
  }
 ],
 "metadata": {
  "kernelspec": {
   "display_name": "Julia 1.6.2",
   "language": "julia",
   "name": "julia-1.6"
  },
  "language_info": {
   "file_extension": ".jl",
   "mimetype": "application/julia",
   "name": "julia",
   "version": "1.6.2"
  },
  "orig_nbformat": 4
 },
 "nbformat": 4,
 "nbformat_minor": 2
}
